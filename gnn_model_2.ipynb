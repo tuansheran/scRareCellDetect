{
 "cells": [
  {
   "cell_type": "code",
   "execution_count": 14,
   "metadata": {},
   "outputs": [],
   "source": [
    "import torch\n",
    "import faiss \n",
    "import numpy as np\n",
    "from scipy.io import mmread\n",
    "import torch.nn.functional as F\n",
    "from torch_geometric.data import Data\n",
    "from torch_geometric.nn import SAGEConv\n",
    "import torch.optim as optim\n",
    "from sklearn.cluster import KMeans\n"
   ]
  },
  {
   "cell_type": "code",
   "execution_count": 15,
   "metadata": {},
   "outputs": [
    {
     "name": "stdout",
     "output_type": "stream",
     "text": [
      "True\n",
      "12.4\n",
      "2.4.1\n"
     ]
    }
   ],
   "source": [
    "#check cuda \n",
    "print(torch.cuda.is_available()) \n",
    "print(torch.version.cuda)\n",
    "print(torch.__version__)"
   ]
  },
  {
   "cell_type": "code",
   "execution_count": 16,
   "metadata": {},
   "outputs": [
    {
     "name": "stdout",
     "output_type": "stream",
     "text": [
      "<COOrdinate sparse matrix of dtype 'float64'\n",
      "\twith 86422438 stored elements and shape (34619, 27180)>\n",
      "  Coords\tValues\n",
      "  (30, 0)\t878.85046\n",
      "  (44, 0)\t2636.5513\n",
      "  (58, 0)\t878.85046\n",
      "  (74, 0)\t878.85046\n",
      "  (77, 0)\t878.85046\n",
      "  (109, 0)\t878.85046\n",
      "  (225, 0)\t3515.4019\n",
      "  (247, 0)\t878.85046\n",
      "  (272, 0)\t878.85046\n",
      "  (273, 0)\t1318.2756\n",
      "  (365, 0)\t878.85046\n",
      "  (366, 0)\t2636.5513\n",
      "  (421, 0)\t878.85046\n",
      "  (431, 0)\t1757.7009\n",
      "  (440, 0)\t878.85046\n",
      "  (442, 0)\t5273.1025\n",
      "  (499, 0)\t16698.158\n",
      "  (594, 0)\t878.85046\n",
      "  (649, 0)\t1757.7009\n",
      "  (688, 0)\t878.85046\n",
      "  (706, 0)\t878.85046\n",
      "  (831, 0)\t1757.7009\n",
      "  (835, 0)\t2636.5513\n",
      "  (867, 0)\t878.85046\n",
      "  (911, 0)\t2636.5513\n",
      "  :\t:\n",
      "  (32162, 27179)\t142.14685\n",
      "  (32202, 27179)\t88.841736\n",
      "  (32298, 27179)\t177.68347\n",
      "  (32423, 27179)\t59.227825\n",
      "  (32425, 27179)\t177.68347\n",
      "  (32564, 27179)\t88.841736\n",
      "  (33015, 27179)\t177.68347\n",
      "  (33454, 27179)\t177.68347\n",
      "  (33504, 27179)\t177.68347\n",
      "  (33538, 27179)\t177.68347\n",
      "  (33578, 27179)\t88.841736\n",
      "  (33636, 27179)\t177.68347\n",
      "  (33647, 27179)\t284.01257\n",
      "  (33727, 27179)\t88.841736\n",
      "  (33783, 27179)\t177.68347\n",
      "  (33801, 27179)\t177.68347\n",
      "  (33809, 27179)\t177.68347\n",
      "  (33814, 27179)\t177.68347\n",
      "  (33955, 27179)\t177.68347\n",
      "  (34155, 27179)\t59.227825\n",
      "  (34157, 27179)\t355.36694\n",
      "  (34188, 27179)\t1.9998602\n",
      "  (34279, 27179)\t177.68347\n",
      "  (34368, 27179)\t88.841736\n",
      "  (34393, 27179)\t1602.0801\n",
      "(34619, 27180)\n"
     ]
    }
   ],
   "source": [
    "rawData = mmread('scRNA.mtx')\n",
    "coo_matrix = rawData.tocoo()\n",
    "print(coo_matrix)\n",
    "print(coo_matrix.shape)"
   ]
  },
  {
   "cell_type": "markdown",
   "metadata": {},
   "source": [
    "#### Process And Modify Data"
   ]
  },
  {
   "cell_type": "code",
   "execution_count": 17,
   "metadata": {},
   "outputs": [
    {
     "name": "stdout",
     "output_type": "stream",
     "text": [
      "<COOrdinate sparse matrix of dtype 'float64'\n",
      "\twith 1000000 stored elements and shape (34619, 27180)>\n",
      "  Coords\tValues\n",
      "  (30, 0)\t878.85046\n",
      "  (44, 0)\t2636.5513\n",
      "  (58, 0)\t878.85046\n",
      "  (74, 0)\t878.85046\n",
      "  (77, 0)\t878.85046\n",
      "  (109, 0)\t878.85046\n",
      "  (225, 0)\t3515.4019\n",
      "  (247, 0)\t878.85046\n",
      "  (272, 0)\t878.85046\n",
      "  (273, 0)\t1318.2756\n",
      "  (365, 0)\t878.85046\n",
      "  (366, 0)\t2636.5513\n",
      "  (421, 0)\t878.85046\n",
      "  (431, 0)\t1757.7009\n",
      "  (440, 0)\t878.85046\n",
      "  (442, 0)\t5273.1025\n",
      "  (499, 0)\t16698.158\n",
      "  (594, 0)\t878.85046\n",
      "  (649, 0)\t1757.7009\n",
      "  (688, 0)\t878.85046\n",
      "  (706, 0)\t878.85046\n",
      "  (831, 0)\t1757.7009\n",
      "  (835, 0)\t2636.5513\n",
      "  (867, 0)\t878.85046\n",
      "  (911, 0)\t2636.5513\n",
      "  :\t:\n",
      "  (14418, 293)\t125.2383\n",
      "  (14428, 293)\t62.61915\n",
      "  (14431, 293)\t62.61915\n",
      "  (14434, 293)\t152.82574\n",
      "  (14435, 293)\t3256.1958\n",
      "  (14439, 293)\t23.63185\n",
      "  (14444, 293)\t250.4766\n",
      "  (14445, 293)\t62.61915\n",
      "  (14449, 293)\t219.16702\n",
      "  (14461, 293)\t125.2383\n",
      "  (14465, 293)\t62.61915\n",
      "  (14466, 293)\t125.2383\n",
      "  (14467, 293)\t62.61915\n",
      "  (14471, 293)\t62.61915\n",
      "  (14484, 293)\t62.61915\n",
      "  (14495, 293)\t62.61915\n",
      "  (14496, 293)\t125.2383\n",
      "  (14502, 293)\t62.61915\n",
      "  (14512, 293)\t250.4766\n",
      "  (14514, 293)\t62.61915\n",
      "  (14520, 293)\t125.2383\n",
      "  (14527, 293)\t62.61915\n",
      "  (14553, 293)\t62.61915\n",
      "  (14571, 293)\t62.61915\n",
      "  (14575, 293)\t62.71644\n"
     ]
    }
   ],
   "source": [
    "def clean_and_split_data(coo_matrix, max_number):\n",
    "    #get only non-zero values\n",
    "    total_nnz = coo_matrix.nnz \n",
    "\n",
    "    # Ensure max_nnz doesn’t exceed total\n",
    "    if max_number >= total_nnz:\n",
    "        raise ValueError(f\"max_nnz ({max_number}) must be less than total non-zero elements ({total_nnz})\")\n",
    "    \n",
    "    rows = coo_matrix.row\n",
    "    cols = coo_matrix.col\n",
    "    data = coo_matrix.data\n",
    "    \n",
    "    selected_indices = np.arange(max_number)  \n",
    "\n",
    "    selected = coo_matrix.__class__(\n",
    "        (data[selected_indices], (rows[selected_indices], cols[selected_indices])),\n",
    "        shape=coo_matrix.shape\n",
    "    )\n",
    "    \n",
    "    return selected\n",
    "\n",
    "processed_data = clean_and_split_data(coo_matrix=coo_matrix, max_number=1000000)\n",
    "print(processed_data)"
   ]
  },
  {
   "cell_type": "markdown",
   "metadata": {},
   "source": [
    "#### Graph Construction"
   ]
  },
  {
   "cell_type": "code",
   "execution_count": 18,
   "metadata": {},
   "outputs": [
    {
     "name": "stdout",
     "output_type": "stream",
     "text": [
      "True\n",
      "FAISS index type: <class 'faiss.swigfaiss.GpuIndexFlat'>\n",
      "[397700, 696586, 223116, 163986, 823956, 4763, 932510, 490399, 177955, 284331, 995116, 157360, 283697, 585907, 24500, 340662, 703416, 845753, 223163, 372669, 774463, 395840, 744770, 995401, 291661, 217679, 646351, 341846, 617691, 507749, 507750, 744808, 877161, 321899, 75244, 642539, 552686, 659695, 800882, 951416, 961276]\n"
     ]
    }
   ],
   "source": [
    "def cell_graph(data, threshold):\n",
    "\n",
    "    gene_expression = data.data\n",
    "    \n",
    "    x = np.asarray(gene_expression, dtype=np.float32)\n",
    "    x = x.reshape(-1, 1) #reshape to 1D array\n",
    "\n",
    "    #move calculations to gpu\n",
    "    gpu_resource_manager = faiss.StandardGpuResources() \n",
    "    similarity_object = faiss.IndexFlatL2(1)\n",
    "    similarity_object_in_gpu = faiss.index_cpu_to_gpu(gpu_resource_manager, 0, similarity_object)\n",
    "\n",
    "    #check gpu allocation\n",
    "    print(similarity_object_in_gpu.is_trained)  \n",
    "    print(f\"FAISS index type: {type(similarity_object_in_gpu)}\") \n",
    "\n",
    "\n",
    "    similarity_object_in_gpu.add(x)\n",
    "    k=2\n",
    "    distances, indices = similarity_object_in_gpu.search(x, k + 1)\n",
    "    \n",
    "    edge_index_list = []\n",
    "    outliers = []\n",
    "    \n",
    "    for i in range(len(gene_expression)):\n",
    "        nearest_neighbors = indices[i, 1:k+1]  \n",
    "        neighbor_distances = distances[i, 1:k+1]\n",
    "        \n",
    "        for j, dist in zip(nearest_neighbors, neighbor_distances):\n",
    "            if dist <= threshold ** 2:\n",
    "                edge_index_list.append((i, j))\n",
    "            else:\n",
    "                outliers.append(int(j))\n",
    "    \n",
    "    # Convert edges to torch tensor\n",
    "    edge_index_np = np.array(edge_index_list).T\n",
    "    edge_index = torch.tensor(edge_index_np, dtype=torch.long) if edge_index_np.size > 0 else torch.empty((2, 0), dtype=torch.long)\n",
    "\n",
    "    cleaned_outliers = list(set(outliers))\n",
    "    print(cleaned_outliers)\n",
    "\n",
    "    x_tensor = torch.tensor(x, dtype=torch.float32)\n",
    "    pyg_data = Data(edge_index=edge_index, x=x_tensor)\n",
    "    \n",
    "    return pyg_data\n",
    "\n",
    "data = cell_graph(data=processed_data,threshold=500)"
   ]
  },
  {
   "cell_type": "markdown",
   "metadata": {},
   "source": [
    "Data(x=[1000, 1]) - 1000 nodes with 1 feature \n",
    "\n",
    "Data(edge_index=[2, 19980]) - 2 Dimensonal Vector representing connections"
   ]
  },
  {
   "cell_type": "markdown",
   "metadata": {},
   "source": [
    "#### Graph Visualization"
   ]
  },
  {
   "cell_type": "code",
   "execution_count": 19,
   "metadata": {},
   "outputs": [],
   "source": [
    "def visualize_graph():\n",
    "    pass"
   ]
  },
  {
   "cell_type": "markdown",
   "metadata": {},
   "source": [
    "#### Graph Neural Network"
   ]
  },
  {
   "attachments": {
    "image-2.png": {
     "image/png": "[encoded data removed]"
    },
    "image-3.png": {
     "image/png": "[encoded data removed]"
    },
    "image.png": {
     "image/png": "[encoded data removed]"
    }
   },
   "cell_type": "markdown",
   "metadata": {},
   "source": [
    "○ GraphSAGE works by gathering features from neighbouring nodes \n",
    "\n",
    "![image.png](attachment:image.png)\n",
    "\n",
    "○ Aggergate these features from neighbouring nodes - from the nueral network \n",
    "\n",
    "![image-2.png](attachment:image-2.png)\n",
    "\n",
    "○ Finally combines this with the target nodes own features \n",
    "\n",
    "![image-3.png](attachment:image-3.png) "
   ]
  },
  {
   "cell_type": "code",
   "execution_count": null,
   "metadata": {},
   "outputs": [],
   "source": [
    "class GraphSAGE(torch.nn.Module):\n",
    "    def __init__(self, in_channels, hidden_channels, out_channels, num_layers=2):\n",
    "        super(GraphSAGE, self).__init__()\n",
    "        self.convs = torch.nn.ModuleList()\n",
    "        self.convs.append(SAGEConv(in_channels, hidden_channels))  \n",
    "        \n",
    "        for _ in range(num_layers - 2):  \n",
    "            self.convs.append(SAGEConv(hidden_channels, hidden_channels))\n",
    "        \n",
    "        self.convs.append(SAGEConv(hidden_channels, out_channels))  \n",
    "\n",
    "    def forward(self, x, edge_index):\n",
    "        for conv in self.convs[:-1]: \n",
    "            x = conv(x, edge_index)\n",
    "            x = F.relu(x)\n",
    "            x = F.dropout(x, p=0.5, training=self.training)\n",
    "        x = self.convs[-1](x, edge_index) \n",
    "        return x  "
   ]
  },
  {
   "cell_type": "code",
   "execution_count": null,
   "metadata": {},
   "outputs": [],
   "source": [
    "def loss_function(embeddings, edge_index):\n",
    "    src, dst = edge_index \n",
    "    sim_loss = F.mse_loss(embeddings[src], embeddings[dst])  \n",
    "\n",
    "    return sim_loss"
   ]
  },
  {
   "cell_type": "code",
   "execution_count": null,
   "metadata": {},
   "outputs": [],
   "source": [
    "def contrastive_loss(embeddings, batch_size=1024):\n",
    "    device = embeddings.device\n",
    "    num_nodes = embeddings.shape[0]\n",
    "    loss = 0.0\n",
    "    count = 0\n",
    "\n",
    "    for i in range(0, num_nodes, batch_size):\n",
    "        batch_emb = embeddings[i : i + batch_size]\n",
    "        sim_matrix = torch.matmul(batch_emb, embeddings.T)\n",
    "        loss += -torch.mean(F.log_softmax(sim_matrix, dim=-1))\n",
    "        count += 1\n",
    "\n",
    "    return loss / count "
   ]
  },
  {
   "cell_type": "code",
   "execution_count": 37,
   "metadata": {},
   "outputs": [],
   "source": [
    "def train(model, data, epochs=100, lr=0.00005):\n",
    "    optimizer = optim.Adam(model.parameters(), lr=lr)\n",
    "    \n",
    "    model.train()\n",
    "    for epoch in range(epochs):\n",
    "        optimizer.zero_grad()\n",
    "        embeddings = model(data.x, data.edge_index)  \n",
    "        loss = contrastive_loss(embeddings)\n",
    "        loss.backward()\n",
    "        optimizer.step()\n",
    "        \n",
    "        if epoch % 10 == 0:\n",
    "            print(f\"Epoch {epoch}, Loss: {loss.item():.4f}\")\n",
    "\n",
    "    return embeddings"
   ]
  },
  {
   "cell_type": "code",
   "execution_count": 38,
   "metadata": {},
   "outputs": [],
   "source": [
    "def cluster_embeddings(embeddings, num_clusters=5):\n",
    "    kmeans = KMeans(n_clusters=num_clusters, random_state=42)\n",
    "    cluster_labels = kmeans.fit_predict(embeddings.detach().numpy())\n",
    "    return cluster_labels"
   ]
  },
  {
   "cell_type": "code",
   "execution_count": null,
   "metadata": {},
   "outputs": [],
   "source": [
    "#tranining \n",
    "in_channels = 1\n",
    "hidden_channels = 64  \n",
    "out_channels = 16  \n",
    "num_layers = 4  \n",
    "\n",
    "model = GraphSAGE(in_channels, hidden_channels, out_channels, num_layers)\n",
    "embeddings = train(model, data)\n",
    "\n",
    "\n",
    "cluster_labels = cluster_embeddings(embeddings)"
   ]
  }
 ],
 "metadata": {
  "kernelspec": {
   "display_name": "scRareCellDetect",
   "language": "python",
   "name": "python3"
  },
  "language_info": {
   "codemirror_mode": {
    "name": "ipython",
    "version": 3
   },
   "file_extension": ".py",
   "mimetype": "text/x-python",
   "name": "python",
   "nbconvert_exporter": "python",
   "pygments_lexer": "ipython3",
   "version": "3.12.9"
  }
 },
 "nbformat": 4,
 "nbformat_minor": 2
}
