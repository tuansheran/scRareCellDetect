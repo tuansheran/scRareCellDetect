{
 "cells": [
  {
   "cell_type": "code",
   "execution_count": 2,
   "metadata": {},
   "outputs": [],
   "source": [
    "import torch\n",
    "import faiss \n",
    "import numpy as np\n",
    "from scipy.io import mmread\n",
    "import torch.nn.functional as F\n",
    "from torch_geometric.data import Data\n",
    "from torch_geometric.nn import SAGEConv\n",
    "import torch.optim as optim\n",
    "from sklearn.cluster import KMeans\n",
    "import torch_geometric.utils as pyg_utils\n",
    "import matplotlib.pyplot as plt\n",
    "from sklearn.decomposition import PCA"
   ]
  },
  {
   "cell_type": "code",
   "execution_count": 3,
   "metadata": {},
   "outputs": [
    {
     "name": "stdout",
     "output_type": "stream",
     "text": [
      "True\n",
      "12.4\n",
      "2.4.1\n"
     ]
    }
   ],
   "source": [
    "#check cuda \n",
    "print(torch.cuda.is_available()) \n",
    "print(torch.version.cuda)\n",
    "print(torch.__version__)"
   ]
  },
  {
   "cell_type": "code",
   "execution_count": 4,
   "metadata": {},
   "outputs": [
    {
     "name": "stdout",
     "output_type": "stream",
     "text": [
      "<COOrdinate sparse matrix of dtype 'float64'\n",
      "\twith 86422438 stored elements and shape (34619, 27180)>\n",
      "  Coords\tValues\n",
      "  (30, 0)\t878.85046\n",
      "  (44, 0)\t2636.5513\n",
      "  (58, 0)\t878.85046\n",
      "  (74, 0)\t878.85046\n",
      "  (77, 0)\t878.85046\n",
      "  (109, 0)\t878.85046\n",
      "  (225, 0)\t3515.4019\n",
      "  (247, 0)\t878.85046\n",
      "  (272, 0)\t878.85046\n",
      "  (273, 0)\t1318.2756\n",
      "  (365, 0)\t878.85046\n",
      "  (366, 0)\t2636.5513\n",
      "  (421, 0)\t878.85046\n",
      "  (431, 0)\t1757.7009\n",
      "  (440, 0)\t878.85046\n",
      "  (442, 0)\t5273.1025\n",
      "  (499, 0)\t16698.158\n",
      "  (594, 0)\t878.85046\n",
      "  (649, 0)\t1757.7009\n",
      "  (688, 0)\t878.85046\n",
      "  (706, 0)\t878.85046\n",
      "  (831, 0)\t1757.7009\n",
      "  (835, 0)\t2636.5513\n",
      "  (867, 0)\t878.85046\n",
      "  (911, 0)\t2636.5513\n",
      "  :\t:\n",
      "  (32162, 27179)\t142.14685\n",
      "  (32202, 27179)\t88.841736\n",
      "  (32298, 27179)\t177.68347\n",
      "  (32423, 27179)\t59.227825\n",
      "  (32425, 27179)\t177.68347\n",
      "  (32564, 27179)\t88.841736\n",
      "  (33015, 27179)\t177.68347\n",
      "  (33454, 27179)\t177.68347\n",
      "  (33504, 27179)\t177.68347\n",
      "  (33538, 27179)\t177.68347\n",
      "  (33578, 27179)\t88.841736\n",
      "  (33636, 27179)\t177.68347\n",
      "  (33647, 27179)\t284.01257\n",
      "  (33727, 27179)\t88.841736\n",
      "  (33783, 27179)\t177.68347\n",
      "  (33801, 27179)\t177.68347\n",
      "  (33809, 27179)\t177.68347\n",
      "  (33814, 27179)\t177.68347\n",
      "  (33955, 27179)\t177.68347\n",
      "  (34155, 27179)\t59.227825\n",
      "  (34157, 27179)\t355.36694\n",
      "  (34188, 27179)\t1.9998602\n",
      "  (34279, 27179)\t177.68347\n",
      "  (34368, 27179)\t88.841736\n",
      "  (34393, 27179)\t1602.0801\n",
      "(34619, 27180)\n"
     ]
    }
   ],
   "source": [
    "rawData = mmread('scRNA.mtx')\n",
    "coo_matrix = rawData.tocoo()\n",
    "print(coo_matrix)\n",
    "print(coo_matrix.shape)"
   ]
  },
  {
   "cell_type": "markdown",
   "metadata": {},
   "source": [
    "#### Process And Modify Data"
   ]
  },
  {
   "cell_type": "code",
   "execution_count": 5,
   "metadata": {},
   "outputs": [
    {
     "name": "stdout",
     "output_type": "stream",
     "text": [
      "<COOrdinate sparse matrix of dtype 'float64'\n",
      "\twith 900000 stored elements and shape (34619, 27180)>\n",
      "  Coords\tValues\n",
      "  (30, 0)\t878.85046\n",
      "  (44, 0)\t2636.5513\n",
      "  (58, 0)\t878.85046\n",
      "  (74, 0)\t878.85046\n",
      "  (77, 0)\t878.85046\n",
      "  (109, 0)\t878.85046\n",
      "  (225, 0)\t3515.4019\n",
      "  (247, 0)\t878.85046\n",
      "  (272, 0)\t878.85046\n",
      "  (273, 0)\t1318.2756\n",
      "  (365, 0)\t878.85046\n",
      "  (366, 0)\t2636.5513\n",
      "  (421, 0)\t878.85046\n",
      "  (431, 0)\t1757.7009\n",
      "  (440, 0)\t878.85046\n",
      "  (442, 0)\t5273.1025\n",
      "  (499, 0)\t16698.158\n",
      "  (594, 0)\t878.85046\n",
      "  (649, 0)\t1757.7009\n",
      "  (688, 0)\t878.85046\n",
      "  (706, 0)\t878.85046\n",
      "  (831, 0)\t1757.7009\n",
      "  (835, 0)\t2636.5513\n",
      "  (867, 0)\t878.85046\n",
      "  (911, 0)\t2636.5513\n",
      "  :\t:\n",
      "  (14359, 264)\t241.19199\n",
      "  (14367, 264)\t96.47679\n",
      "  (14368, 264)\t24.119198\n",
      "  (14369, 264)\t24.119198\n",
      "  (14374, 264)\t48.238396\n",
      "  (14376, 264)\t120.59599\n",
      "  (14379, 264)\t96.47679\n",
      "  (14382, 264)\t24.119198\n",
      "  (14383, 264)\t48.238396\n",
      "  (14402, 264)\t24.119198\n",
      "  (14403, 264)\t24.119198\n",
      "  (14410, 264)\t120.59599\n",
      "  (14412, 264)\t48.238396\n",
      "  (14414, 264)\t48.238396\n",
      "  (14417, 264)\t4.82384\n",
      "  (14426, 264)\t24.119198\n",
      "  (14428, 264)\t120.59599\n",
      "  (14429, 264)\t144.71518\n",
      "  (14431, 264)\t192.95358\n",
      "  (14433, 264)\t96.47679\n",
      "  (14434, 264)\t265.3112\n",
      "  (14435, 264)\t1471.2711\n",
      "  (14437, 264)\t24.119198\n",
      "  (14439, 264)\t48.238396\n",
      "  (14444, 264)\t337.66876\n"
     ]
    }
   ],
   "source": [
    "def clean_and_split_data(coo_matrix, max_number):\n",
    "    #get only non-zero values\n",
    "    total_nnz = coo_matrix.nnz \n",
    "\n",
    "    # Ensure max_nnz doesn’t exceed total\n",
    "    if max_number >= total_nnz:\n",
    "        raise ValueError(f\"max_nnz ({max_number}) must be less than total non-zero elements ({total_nnz})\")\n",
    "    \n",
    "    rows = coo_matrix.row\n",
    "    cols = coo_matrix.col\n",
    "    data = coo_matrix.data\n",
    "    \n",
    "    selected_indices = np.arange(max_number)  \n",
    "\n",
    "    selected = coo_matrix.__class__(\n",
    "        (data[selected_indices], (rows[selected_indices], cols[selected_indices])),\n",
    "        shape=coo_matrix.shape\n",
    "    )\n",
    "    \n",
    "    return selected\n",
    "\n",
    "processed_data = clean_and_split_data(coo_matrix=coo_matrix, max_number=900000)\n",
    "print(processed_data)"
   ]
  },
  {
   "cell_type": "markdown",
   "metadata": {},
   "source": [
    "Graph Data Object"
   ]
  },
  {
   "cell_type": "code",
   "execution_count": 6,
   "metadata": {},
   "outputs": [
    {
     "name": "stdout",
     "output_type": "stream",
     "text": [
      "True\n",
      "FAISS index type: <class 'faiss.swigfaiss.GpuIndexFlat'>\n",
      "[397700, 696586, 223116, 163986, 823956, 4763, 490399, 333091, 177955, 747556, 284331, 157360, 283697, 24500, 340662, 703416, 845753, 223163, 372669, 774463, 395840, 538689, 744770, 291661, 217679, 341846, 617691, 507749, 507750, 744808, 877161, 696554, 321899, 75244, 642539, 552686, 659695, 800882]\n",
      "Data(x=[900000, 1], edge_index=[2, 1799946])\n"
     ]
    }
   ],
   "source": [
    "def cell_graph(data, threshold):\n",
    "\n",
    "    gene_expression = data.data\n",
    "    \n",
    "    x = np.asarray(gene_expression, dtype=np.float32)\n",
    "    x = x.reshape(-1, 1)\n",
    "\n",
    "\n",
    "    gpu_resource_manager = faiss.StandardGpuResources() \n",
    "    similarity_object = faiss.IndexFlatL2(1)\n",
    "    similarity_object_in_gpu = faiss.index_cpu_to_gpu(gpu_resource_manager, 0, similarity_object)\n",
    "\n",
    "\n",
    "    print(similarity_object_in_gpu.is_trained)  \n",
    "    print(f\"FAISS index type: {type(similarity_object_in_gpu)}\") \n",
    "\n",
    "\n",
    "    similarity_object_in_gpu.add(x)\n",
    "    k=2\n",
    "    distances, indices = similarity_object_in_gpu.search(x, k + 1)\n",
    "    \n",
    "    edge_index_list = []\n",
    "    outliers = []\n",
    "    \n",
    "    for i in range(len(gene_expression)):\n",
    "        nearest_neighbors = indices[i, 1:k+1]  \n",
    "        neighbor_distances = distances[i, 1:k+1]\n",
    "        \n",
    "        for j, dist in zip(nearest_neighbors, neighbor_distances):\n",
    "            if dist <= threshold ** 2:\n",
    "                edge_index_list.append((i, j))\n",
    "            else:\n",
    "                outliers.append(int(j))\n",
    "    \n",
    "\n",
    "    edge_index_np = np.array(edge_index_list).T\n",
    "    edge_index = torch.tensor(edge_index_np, dtype=torch.long) if edge_index_np.size > 0 else torch.empty((2, 0), dtype=torch.long)\n",
    "\n",
    "    cleaned_outliers = list(set(outliers))\n",
    "    print(cleaned_outliers)\n",
    "\n",
    "    x_tensor = torch.tensor(x, dtype=torch.float32)\n",
    "    pyg_data = Data(edge_index=edge_index, x=x_tensor)\n",
    "    print(pyg_data)\n",
    "    return pyg_data\n",
    "\n",
    "data = cell_graph(data=processed_data,threshold=500)"
   ]
  },
  {
   "cell_type": "markdown",
   "metadata": {},
   "source": [
    "Graph Neural Network"
   ]
  },
  {
   "cell_type": "code",
   "execution_count": 7,
   "metadata": {},
   "outputs": [],
   "source": [
    "class GraphSAGE(torch.nn.Module):\n",
    "    def __init__(self, in_channels, hidden_channels, out_channels, num_layers=2):\n",
    "        super(GraphSAGE, self).__init__()\n",
    "        self.convs = torch.nn.ModuleList()\n",
    "        self.convs.append(SAGEConv(in_channels, hidden_channels))  \n",
    "        \n",
    "        for _ in range(num_layers - 2):  \n",
    "            self.convs.append(SAGEConv(hidden_channels, hidden_channels))\n",
    "        \n",
    "        self.convs.append(SAGEConv(hidden_channels, out_channels))  \n",
    "\n",
    "    def forward(self, x, edge_index):\n",
    "        for conv in self.convs[:-1]: \n",
    "            x = conv(x, edge_index)\n",
    "            x = F.relu(x)\n",
    "            x = F.dropout(x, p=0.5, training=self.training)\n",
    "        x = self.convs[-1](x, edge_index) \n",
    "        return x  "
   ]
  },
  {
   "cell_type": "code",
   "execution_count": null,
   "metadata": {},
   "outputs": [],
   "source": [
    "def contrastive_loss(anchor, positive, negative, margin=1.0):\n",
    "    pos_dist = torch.norm(anchor - positive, p=2, dim=1) ** 2  \n",
    "    neg_dist = torch.norm(anchor - negative, p=2, dim=1) ** 2\n",
    "    loss = torch.clamp(pos_dist - neg_dist + margin, min=0.0).mean()\n",
    "    return loss\n"
   ]
  },
  {
   "cell_type": "code",
   "execution_count": null,
   "metadata": {},
   "outputs": [],
   "source": [
    "def train_1(model, data, epochs=100, lr=0.01):\n",
    "    optimizer = torch.optim.Adam(model.parameters(), lr=lr)\n",
    "   \n",
    "\n",
    "    for epoch in range(epochs):\n",
    "        model.train()\n",
    "        optimizer.zero_grad()\n",
    "\n",
    "        embeddings = model(data.x, data.edge_index)  # Forward pass\n",
    "        loss = triplet_loss(embeddings, pos_pairs, neg_pairs)\n",
    "\n",
    "        loss.backward()\n",
    "        optimizer.step()\n",
    "\n",
    "        if epoch % 10 == 0:\n",
    "            print(f\"Epoch {epoch}, Loss: {loss.item()}\")\n",
    "\n",
    "    return embeddings\n",
    "\n",
    "\n",
    "def train_mse_loss():\n",
    "    pass\n",
    "\n",
    "def train_constrastive_loss():\n",
    "    pass"
   ]
  },
  {
   "cell_type": "code",
   "execution_count": null,
   "metadata": {},
   "outputs": [
    {
     "ename": "AttributeError",
     "evalue": "'NoneType' object has no attribute 'backward'",
     "output_type": "error",
     "traceback": [
      "\u001b[31m---------------------------------------------------------------------------\u001b[39m",
      "\u001b[31mAttributeError\u001b[39m                            Traceback (most recent call last)",
      "\u001b[36mCell\u001b[39m\u001b[36m \u001b[39m\u001b[32mIn[13]\u001b[39m\u001b[32m, line 10\u001b[39m\n\u001b[32m      7\u001b[39m model = GraphSAGE(in_channels, hidden_channels, out_channels, num_layers)\n\u001b[32m      9\u001b[39m \u001b[38;5;66;03m#run all loss functions\u001b[39;00m\n\u001b[32m---> \u001b[39m\u001b[32m10\u001b[39m embeddings_loss_1 = \u001b[43mtrain_triplet_loss\u001b[49m\u001b[43m(\u001b[49m\u001b[43mmodel\u001b[49m\u001b[43m,\u001b[49m\u001b[43m \u001b[49m\u001b[43mdata\u001b[49m\u001b[43m)\u001b[49m\n\u001b[32m     11\u001b[39m \u001b[38;5;66;03m# embeddings_loss_2 = tr\u001b[39;00m\n",
      "\u001b[36mCell\u001b[39m\u001b[36m \u001b[39m\u001b[32mIn[12]\u001b[39m\u001b[32m, line 12\u001b[39m, in \u001b[36mtrain_triplet_loss\u001b[39m\u001b[34m(model, data, epochs, lr)\u001b[39m\n\u001b[32m      9\u001b[39m embeddings = model(data.x, data.edge_index)  \u001b[38;5;66;03m# Forward pass\u001b[39;00m\n\u001b[32m     10\u001b[39m loss = triplet_loss(embeddings, pos_pairs, neg_pairs)\n\u001b[32m---> \u001b[39m\u001b[32m12\u001b[39m \u001b[43mloss\u001b[49m\u001b[43m.\u001b[49m\u001b[43mbackward\u001b[49m()\n\u001b[32m     13\u001b[39m optimizer.step()\n\u001b[32m     15\u001b[39m \u001b[38;5;28;01mif\u001b[39;00m epoch % \u001b[32m10\u001b[39m == \u001b[32m0\u001b[39m:\n",
      "\u001b[31mAttributeError\u001b[39m: 'NoneType' object has no attribute 'backward'"
     ]
    },
    {
     "ename": "",
     "evalue": "",
     "output_type": "error",
     "traceback": [
      "\u001b[1;31mThe Kernel crashed while executing code in the current cell or a previous cell. \n",
      "\u001b[1;31mPlease review the code in the cell(s) to identify a possible cause of the failure. \n",
      "\u001b[1;31mClick <a href='https://aka.ms/vscodeJupyterKernelCrash'>here</a> for more info. \n",
      "\u001b[1;31mView Jupyter <a href='command:jupyter.viewOutput'>log</a> for further details."
     ]
    }
   ],
   "source": [
    "\n",
    "model = GraphSAGE(in_channels=1, hidden_channels=64, out_channels=64, num_layers=4)\n",
    "\n",
    "#run all loss functions\n",
    "embeddings_loss_1 = train_1(model, data)\n",
    "# embeddings_loss_2 = tr\n"
   ]
  },
  {
   "cell_type": "code",
   "execution_count": null,
   "metadata": {},
   "outputs": [
    {
     "ename": "NameError",
     "evalue": "name 'embeddings_loss_1' is not defined",
     "output_type": "error",
     "traceback": [
      "\u001b[31m---------------------------------------------------------------------------\u001b[39m",
      "\u001b[31mNameError\u001b[39m                                 Traceback (most recent call last)",
      "\u001b[36mCell\u001b[39m\u001b[36m \u001b[39m\u001b[32mIn[2]\u001b[39m\u001b[32m, line 9\u001b[39m\n\u001b[32m      6\u001b[39m     \u001b[38;5;28;01mreturn\u001b[39;00m cluster_labels  \u001b[38;5;66;03m# Returns cluster IDs for each cell\u001b[39;00m\n\u001b[32m      8\u001b[39m \u001b[38;5;66;03m# Run clustering\u001b[39;00m\n\u001b[32m----> \u001b[39m\u001b[32m9\u001b[39m cluster_labels = cluster_embeddings(\u001b[43membeddings_loss_1\u001b[49m)\n\u001b[32m     10\u001b[39m \u001b[38;5;28mprint\u001b[39m(cluster_labels) \n",
      "\u001b[31mNameError\u001b[39m: name 'embeddings_loss_1' is not defined"
     ]
    }
   ],
   "source": [
    "def cluster_embeddings(embeddings, num_clusters=10):\n",
    "    \"\"\"Clusters embeddings using KMeans and returns cluster labels.\"\"\"\n",
    "    embeddings_np = embeddings.detach().cpu().numpy()  # Convert to NumPy\n",
    "    kmeans = KMeans(n_clusters=num_clusters, random_state=42, n_init=10)\n",
    "    cluster_labels = kmeans.fit_predict(embeddings_np)  # Run KMeans\n",
    "    return cluster_labels  # Returns cluster IDs for each cell\n",
    "\n",
    "# Run clustering\n",
    "cluster_labels = cluster_embeddings(embeddings_loss_1)\n",
    "print(cluster_labels) "
   ]
  },
  {
   "cell_type": "code",
   "execution_count": null,
   "metadata": {},
   "outputs": [
    {
     "name": "stdout",
     "output_type": "stream",
     "text": [
      "Clusters found: [0 1 2 3 4]\n",
      "Number of cells per cluster: [887940      1      1      4  12054]\n"
     ]
    }
   ],
   "source": [
    "unique, counts = np.unique(cluster_labels, return_counts=True)\n",
    "print(\"Clusters found:\", unique)\n",
    "print(\"Number of cells per cluster:\", counts)"
   ]
  },
  {
   "cell_type": "code",
   "execution_count": null,
   "metadata": {},
   "outputs": [
    {
     "data": {
      "image/png": "[encoded data removed]",
      "text/plain": [
       "<Figure size 800x600 with 2 Axes>"
      ]
     },
     "metadata": {},
     "output_type": "display_data"
    }
   ],
   "source": [
    "def plot_clusters(embeddings, cluster_labels):\n",
    "    \"\"\"Reduces embeddings to 2D and plots them with cluster colors.\"\"\"\n",
    "    embeddings_np = embeddings.detach().cpu().numpy() \n",
    "\n",
    "    reducer = PCA(n_components=2)\n",
    "\n",
    "    reduced_embeddings = reducer.fit_transform(embeddings_np)\n",
    "\n",
    "    # Plot clusters\n",
    "    plt.figure(figsize=(8, 6))\n",
    "    scatter = plt.scatter(reduced_embeddings[:, 0], reduced_embeddings[:, 1], \n",
    "                          c=cluster_labels, cmap='viridis', alpha=0.7)\n",
    "    \n",
    "    plt.colorbar(label=\"Cluster ID\")\n",
    "    plt.title(f\"Cluster Visualization using PCA\")\n",
    "    plt.xlabel(\"x\")\n",
    "    plt.ylabel(\"y\")\n",
    "    plt.show()\n",
    "\n",
    "\n",
    "plot_clusters(embeddings_loss_1, cluster_labels, method=\"pca\")\n"
   ]
  }
 ],
 "metadata": {
  "kernelspec": {
   "display_name": "scRareCellDetect",
   "language": "python",
   "name": "python3"
  },
  "language_info": {
   "codemirror_mode": {
    "name": "ipython",
    "version": 3
   },
   "file_extension": ".py",
   "mimetype": "text/x-python",
   "name": "python",
   "nbconvert_exporter": "python",
   "pygments_lexer": "ipython3",
   "version": "3.12.9"
  }
 },
 "nbformat": 4,
 "nbformat_minor": 2
}
