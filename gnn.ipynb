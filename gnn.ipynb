{
 "cells": [
  {
   "cell_type": "code",
   "execution_count": 1,
   "metadata": {},
   "outputs": [],
   "source": [
    "import torch\n",
    "import faiss \n",
    "import numpy as np\n",
    "from scipy.io import mmread\n",
    "from torch_geometric.data import Data"
   ]
  },
  {
   "cell_type": "code",
   "execution_count": null,
   "metadata": {},
   "outputs": [
    {
     "name": "stdout",
     "output_type": "stream",
     "text": [
      "False\n",
      "None\n"
     ]
    }
   ],
   "source": [
    "#check cuda \n",
    "print(torch.cuda.is_available())  # False\n",
    "print(torch.version.cuda)  # What does this print now?\n",
    "print(torch.__version__)"
   ]
  },
  {
   "cell_type": "code",
   "execution_count": 3,
   "metadata": {},
   "outputs": [
    {
     "name": "stdout",
     "output_type": "stream",
     "text": [
      "<COOrdinate sparse matrix of dtype 'float64'\n",
      "\twith 86422438 stored elements and shape (34619, 27180)>\n",
      "  Coords\tValues\n",
      "  (30, 0)\t878.85046\n",
      "  (44, 0)\t2636.5513\n",
      "  (58, 0)\t878.85046\n",
      "  (74, 0)\t878.85046\n",
      "  (77, 0)\t878.85046\n",
      "  (109, 0)\t878.85046\n",
      "  (225, 0)\t3515.4019\n",
      "  (247, 0)\t878.85046\n",
      "  (272, 0)\t878.85046\n",
      "  (273, 0)\t1318.2756\n",
      "  (365, 0)\t878.85046\n",
      "  (366, 0)\t2636.5513\n",
      "  (421, 0)\t878.85046\n",
      "  (431, 0)\t1757.7009\n",
      "  (440, 0)\t878.85046\n",
      "  (442, 0)\t5273.1025\n",
      "  (499, 0)\t16698.158\n",
      "  (594, 0)\t878.85046\n",
      "  (649, 0)\t1757.7009\n",
      "  (688, 0)\t878.85046\n",
      "  (706, 0)\t878.85046\n",
      "  (831, 0)\t1757.7009\n",
      "  (835, 0)\t2636.5513\n",
      "  (867, 0)\t878.85046\n",
      "  (911, 0)\t2636.5513\n",
      "  :\t:\n",
      "  (32162, 27179)\t142.14685\n",
      "  (32202, 27179)\t88.841736\n",
      "  (32298, 27179)\t177.68347\n",
      "  (32423, 27179)\t59.227825\n",
      "  (32425, 27179)\t177.68347\n",
      "  (32564, 27179)\t88.841736\n",
      "  (33015, 27179)\t177.68347\n",
      "  (33454, 27179)\t177.68347\n",
      "  (33504, 27179)\t177.68347\n",
      "  (33538, 27179)\t177.68347\n",
      "  (33578, 27179)\t88.841736\n",
      "  (33636, 27179)\t177.68347\n",
      "  (33647, 27179)\t284.01257\n",
      "  (33727, 27179)\t88.841736\n",
      "  (33783, 27179)\t177.68347\n",
      "  (33801, 27179)\t177.68347\n",
      "  (33809, 27179)\t177.68347\n",
      "  (33814, 27179)\t177.68347\n",
      "  (33955, 27179)\t177.68347\n",
      "  (34155, 27179)\t59.227825\n",
      "  (34157, 27179)\t355.36694\n",
      "  (34188, 27179)\t1.9998602\n",
      "  (34279, 27179)\t177.68347\n",
      "  (34368, 27179)\t88.841736\n",
      "  (34393, 27179)\t1602.0801\n",
      "(34619, 27180)\n"
     ]
    }
   ],
   "source": [
    "rawData = mmread('scRNA.mtx')\n",
    "coo_matrix = rawData.tocoo()\n",
    "print(coo_matrix)\n",
    "print(coo_matrix.shape)"
   ]
  },
  {
   "cell_type": "code",
   "execution_count": 4,
   "metadata": {},
   "outputs": [
    {
     "name": "stdout",
     "output_type": "stream",
     "text": [
      "<COOrdinate sparse matrix of dtype 'float64'\n",
      "\twith 10000 stored elements and shape (34619, 27180)>\n",
      "  Coords\tValues\n",
      "  (30, 0)\t878.85046\n",
      "  (44, 0)\t2636.5513\n",
      "  (58, 0)\t878.85046\n",
      "  (74, 0)\t878.85046\n",
      "  (77, 0)\t878.85046\n",
      "  (109, 0)\t878.85046\n",
      "  (225, 0)\t3515.4019\n",
      "  (247, 0)\t878.85046\n",
      "  (272, 0)\t878.85046\n",
      "  (273, 0)\t1318.2756\n",
      "  (365, 0)\t878.85046\n",
      "  (366, 0)\t2636.5513\n",
      "  (421, 0)\t878.85046\n",
      "  (431, 0)\t1757.7009\n",
      "  (440, 0)\t878.85046\n",
      "  (442, 0)\t5273.1025\n",
      "  (499, 0)\t16698.158\n",
      "  (594, 0)\t878.85046\n",
      "  (649, 0)\t1757.7009\n",
      "  (688, 0)\t878.85046\n",
      "  (706, 0)\t878.85046\n",
      "  (831, 0)\t1757.7009\n",
      "  (835, 0)\t2636.5513\n",
      "  (867, 0)\t878.85046\n",
      "  (911, 0)\t2636.5513\n",
      "  :\t:\n",
      "  (565, 4)\t17.701666\n",
      "  (568, 4)\t35.40333\n",
      "  (570, 4)\t35.40333\n",
      "  (574, 4)\t17.701666\n",
      "  (577, 4)\t460.24332\n",
      "  (583, 4)\t35.40333\n",
      "  (586, 4)\t17.701666\n",
      "  (587, 4)\t17.701666\n",
      "  (589, 4)\t35.40333\n",
      "  (590, 4)\t283.22665\n",
      "  (594, 4)\t300.9283\n",
      "  (601, 4)\t17.701666\n",
      "  (604, 4)\t17.701666\n",
      "  (605, 4)\t17.701666\n",
      "  (607, 4)\t123.91166\n",
      "  (610, 4)\t159.31499\n",
      "  (614, 4)\t35.40333\n",
      "  (615, 4)\t53.104996\n",
      "  (618, 4)\t141.61333\n",
      "  (619, 4)\t35.40333\n",
      "  (621, 4)\t17.701666\n",
      "  (623, 4)\t17.701666\n",
      "  (626, 4)\t35.40333\n",
      "  (627, 4)\t35.40333\n",
      "  (629, 4)\t17.701666\n"
     ]
    }
   ],
   "source": [
    "def clean_and_split_data(coo_matrix, max_number):\n",
    "    total_nnz = coo_matrix.nnz \n",
    "\n",
    "    # Ensure max_nnz doesn’t exceed total\n",
    "    if max_number >= total_nnz:\n",
    "        raise ValueError(f\"max_nnz ({max_number}) must be less than total non-zero elements ({total_nnz})\")\n",
    "    \n",
    "    rows = coo_matrix.row\n",
    "    cols = coo_matrix.col\n",
    "    data = coo_matrix.data\n",
    "    \n",
    "    selected_indices = np.arange(max_number)  \n",
    "\n",
    "    selected = coo_matrix.__class__(\n",
    "        (data[selected_indices], (rows[selected_indices], cols[selected_indices])),\n",
    "        shape=coo_matrix.shape\n",
    "    )\n",
    "    \n",
    "    return selected\n",
    "\n",
    "processed_data = clean_and_split_data(coo_matrix=coo_matrix, max_number=10000)\n",
    "print(processed_data)"
   ]
  },
  {
   "cell_type": "markdown",
   "metadata": {},
   "source": [
    "#### Graph Construction"
   ]
  },
  {
   "cell_type": "code",
   "execution_count": null,
   "metadata": {},
   "outputs": [
    {
     "name": "stdout",
     "output_type": "stream",
     "text": [
      "10000\n",
      "[256, 547, 9220, 387, 814, 239, 16, 275, 1113, 9116]\n"
     ]
    },
    {
     "data": {
      "text/plain": [
       "Data(x=[10000, 1], edge_index=[2, 19980])"
      ]
     },
     "execution_count": 6,
     "metadata": {},
     "output_type": "execute_result"
    }
   ],
   "source": [
    "def cell_graph(data):\n",
    "\n",
    "    gene_expression = data.data\n",
    "    \n",
    "    x = np.asarray(gene_expression, dtype=np.float32)\n",
    "    x = x.reshape(-1, 1) #reshape to 1D array\n",
    "\n",
    "    gpu_resource_manager = faiss.StandardGpuResources() \n",
    "    similarity_object = faiss.IndexFlatL2(1)\n",
    "    similarity_object_in_gpu = faiss.index_cpu_to_gpu(gpu_resource_manager, 0,similarity_object)\n",
    "\n",
    "    similarity_object_in_gpu.add(x)\n",
    "    k=2\n",
    "    distances, indices = similarity_object_in_gpu.search(x, k + 1)\n",
    "    \n",
    "    edge_index_list = []\n",
    "    outliers = []\n",
    "    \n",
    "    for i in range(len(gene_expression)):\n",
    "        nearest_neighbors = indices[i, 1:k+1]  \n",
    "        neighbor_distances = distances[i, 1:k+1]\n",
    "        \n",
    "        for j, dist in zip(nearest_neighbors, neighbor_distances):\n",
    "            if dist <= 500 ** 2:\n",
    "                edge_index_list.append((i, j))\n",
    "            else:\n",
    "                outliers.append(int(j))\n",
    "    \n",
    "    # Convert edges to torch tensor\n",
    "    edge_index_np = np.array(edge_index_list).T\n",
    "    edge_index = torch.tensor(edge_index_np, dtype=torch.long) if edge_index_np.size > 0 else torch.empty((2, 0), dtype=torch.long)\n",
    "\n",
    "    cleaned_outliers = list(set(outliers))\n",
    "    print(cleaned_outliers)\n",
    "\n",
    "    x_tensor = torch.tensor(x, dtype=torch.float32)\n",
    "    pyg_data = Data(edge_index=edge_index, x=x_tensor)\n",
    "    \n",
    "    return pyg_data\n",
    "\n",
    "cell_graph(processed_data)"
   ]
  }
 ],
 "metadata": {
  "kernelspec": {
   "display_name": "scRareCellDetect",
   "language": "python",
   "name": "python3"
  },
  "language_info": {
   "codemirror_mode": {
    "name": "ipython",
    "version": 3
   },
   "file_extension": ".py",
   "mimetype": "text/x-python",
   "name": "python",
   "nbconvert_exporter": "python",
   "pygments_lexer": "ipython3",
   "version": "3.12.9"
  }
 },
 "nbformat": 4,
 "nbformat_minor": 2
}
