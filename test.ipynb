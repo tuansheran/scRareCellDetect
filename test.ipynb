{
 "cells": [
  {
   "cell_type": "code",
   "execution_count": 2,
   "metadata": {},
   "outputs": [],
   "source": [
    "# %pip install torch\n",
    "# %pip install torch_geometric\n",
    "# %pip install networkx"
   ]
  },
  {
   "cell_type": "code",
   "execution_count": 3,
   "metadata": {},
   "outputs": [],
   "source": [
    "from scipy.io import mmread\n",
    "import pandas as pd\n",
    "from scipy import sparse\n",
    "from torch_geometric.data import Data\n",
    "import networkx as nx\n",
    "import torch"
   ]
  },
  {
   "cell_type": "code",
   "execution_count": null,
   "metadata": {},
   "outputs": [
    {
     "name": "stdout",
     "output_type": "stream",
     "text": [
      "count    8.642244e+07\n",
      "mean     3.145017e+02\n",
      "std      1.474521e+03\n",
      "min      3.754523e-02\n",
      "25%      4.758733e+01\n",
      "50%      9.236428e+01\n",
      "75%      2.114828e+02\n",
      "max      9.125702e+05\n",
      "Name: expression, dtype: float64\n"
     ]
    }
   ],
   "source": [
    "rawData = mmread('scRNA.mtx')\n",
    "coo_matrix = rawData.tocoo()\n",
    "\n",
    "pd_data = pd.DataFrame({\n",
    "    \"gene\": coo_matrix.row,\n",
    "    \"cell\": coo_matrix.col,\n",
    "    \"expression\": coo_matrix.data\n",
    "})\n",
    "\n",
    "print(pd_data['expression'].describe())"
   ]
  },
  {
   "cell_type": "code",
   "execution_count": 5,
   "metadata": {},
   "outputs": [
    {
     "name": "stdout",
     "output_type": "stream",
     "text": [
      "           gene   cell  expression\n",
      "283697    17096     81   99604.250\n",
      "284331    17096     82  106040.600\n",
      "395840    17096    117  112160.500\n",
      "507749    17096    145  128562.520\n",
      "601163    17096    181   80766.540\n",
      "...         ...    ...         ...\n",
      "86389399  24531  27163   90961.086\n",
      "86393126  24531  27165   80971.110\n",
      "86398624  24531  27167   89592.860\n",
      "86412018  24531  27174  109349.640\n",
      "86422299  24531  27179   95590.130\n",
      "\n",
      "[2983 rows x 3 columns]\n"
     ]
    }
   ],
   "source": [
    "def filterData(data): \n",
    "    threshold_lower = 80000\n",
    "    data_filtered = data[data['expression'] > threshold_lower] \n",
    "\n",
    "    return data_filtered\n",
    "\n",
    "def convertToSparseMatrixCOO(data):\n",
    "    cell = data['cell']\n",
    "    gene = data['gene']\n",
    "    expression = data['expression']\n",
    "\n",
    "    coo_matrix = sparse.coo_matrix((expression, (cell, gene)), dtype='float64')\n",
    "    return coo_matrix\n",
    "\n",
    "filtred_data = filterData(pd_data)\n",
    "converted_data = convertToSparseMatrixCOO(filtred_data)\n",
    "print(filtred_data)"
   ]
  },
  {
   "cell_type": "code",
   "execution_count": 6,
   "metadata": {},
   "outputs": [
    {
     "name": "stdout",
     "output_type": "stream",
     "text": [
      "Cell-Gene Matrix:\n",
      "gene   1677   2574   3676   4688   7466   8058   9587   10442  10776  11647  \\\n",
      "cell                                                                          \n",
      "81       0.0    0.0    0.0    0.0    0.0    0.0    0.0    0.0    0.0    0.0   \n",
      "82       0.0    0.0    0.0    0.0    0.0    0.0    0.0    0.0    0.0    0.0   \n",
      "117      0.0    0.0    0.0    0.0    0.0    0.0    0.0    0.0    0.0    0.0   \n",
      "145      0.0    0.0    0.0    0.0    0.0    0.0    0.0    0.0    0.0    0.0   \n",
      "181      0.0    0.0    0.0    0.0    0.0    0.0    0.0    0.0    0.0    0.0   \n",
      "...      ...    ...    ...    ...    ...    ...    ...    ...    ...    ...   \n",
      "27163    0.0    0.0    0.0    0.0    0.0    0.0    0.0    0.0    0.0    0.0   \n",
      "27165    0.0    0.0    0.0    0.0    0.0    0.0    0.0    0.0    0.0    0.0   \n",
      "27167    0.0    0.0    0.0    0.0    0.0    0.0    0.0    0.0    0.0    0.0   \n",
      "27174    0.0    0.0    0.0    0.0    0.0    0.0    0.0    0.0    0.0    0.0   \n",
      "27179    0.0    0.0    0.0    0.0    0.0    0.0    0.0    0.0    0.0    0.0   \n",
      "\n",
      "gene   ...  15633  16426  17007      17096  17125  17492  23541  23586  \\\n",
      "cell   ...                                                               \n",
      "81     ...    0.0    0.0    0.0   99604.25    0.0    0.0    0.0    0.0   \n",
      "82     ...    0.0    0.0    0.0  106040.60    0.0    0.0    0.0    0.0   \n",
      "117    ...    0.0    0.0    0.0  112160.50    0.0    0.0    0.0    0.0   \n",
      "145    ...    0.0    0.0    0.0  128562.52    0.0    0.0    0.0    0.0   \n",
      "181    ...    0.0    0.0    0.0   80766.54    0.0    0.0    0.0    0.0   \n",
      "...    ...    ...    ...    ...        ...    ...    ...    ...    ...   \n",
      "27163  ...    0.0    0.0    0.0       0.00    0.0    0.0    0.0    0.0   \n",
      "27165  ...    0.0    0.0    0.0       0.00    0.0    0.0    0.0    0.0   \n",
      "27167  ...    0.0    0.0    0.0       0.00    0.0    0.0    0.0    0.0   \n",
      "27174  ...    0.0    0.0    0.0       0.00    0.0    0.0    0.0    0.0   \n",
      "27179  ...    0.0    0.0    0.0       0.00    0.0    0.0    0.0    0.0   \n",
      "\n",
      "gene        24531  32058  \n",
      "cell                      \n",
      "81          0.000    0.0  \n",
      "82          0.000    0.0  \n",
      "117         0.000    0.0  \n",
      "145         0.000    0.0  \n",
      "181         0.000    0.0  \n",
      "...           ...    ...  \n",
      "27163   90961.086    0.0  \n",
      "27165   80971.110    0.0  \n",
      "27167   89592.860    0.0  \n",
      "27174  109349.640    0.0  \n",
      "27179   95590.130    0.0  \n",
      "\n",
      "[2675 rows x 22 columns]\n"
     ]
    }
   ],
   "source": [
    "cell_gene_matrix = filtred_data.pivot(index='cell', columns='gene', values='expression').fillna(0)\n",
    "print(\"Cell-Gene Matrix:\")\n",
    "print(cell_gene_matrix)"
   ]
  },
  {
   "cell_type": "code",
   "execution_count": 7,
   "metadata": {},
   "outputs": [
    {
     "name": "stdout",
     "output_type": "stream",
     "text": [
      "Tensor Data:\n",
      "tensor([[     0.0000,      0.0000,      0.0000,  ...,      0.0000,\n",
      "              0.0000,      0.0000],\n",
      "        [     0.0000,      0.0000,      0.0000,  ...,      0.0000,\n",
      "              0.0000,      0.0000],\n",
      "        [     0.0000,      0.0000,      0.0000,  ...,      0.0000,\n",
      "              0.0000,      0.0000],\n",
      "        ...,\n",
      "        [     0.0000,      0.0000,      0.0000,  ...,      0.0000,\n",
      "          89592.8594,      0.0000],\n",
      "        [     0.0000,      0.0000,      0.0000,  ...,      0.0000,\n",
      "         109349.6406,      0.0000],\n",
      "        [     0.0000,      0.0000,      0.0000,  ...,      0.0000,\n",
      "          95590.1328,      0.0000]])\n"
     ]
    }
   ],
   "source": [
    "# Convert DataFrame to Tensor\n",
    "tensor_data = torch.tensor(cell_gene_matrix.values, dtype=torch.float32)\n",
    "print(\"Tensor Data:\")\n",
    "print(tensor_data)"
   ]
  },
  {
   "cell_type": "code",
   "execution_count": 8,
   "metadata": {},
   "outputs": [
    {
     "name": "stdout",
     "output_type": "stream",
     "text": [
      "tensor([[1., 1., 1.,  ..., 0., 0., 0.],\n",
      "        [1., 1., 1.,  ..., 0., 0., 0.],\n",
      "        [1., 1., 1.,  ..., 0., 0., 0.],\n",
      "        ...,\n",
      "        [0., 0., 0.,  ..., 1., 1., 1.],\n",
      "        [0., 0., 0.,  ..., 1., 1., 1.],\n",
      "        [0., 0., 0.,  ..., 1., 1., 1.]])\n"
     ]
    }
   ],
   "source": [
    "from torch.nn.functional import cosine_similarity\n",
    "\n",
    "def batched_cosine_similarity(data, batch_size=1000):\n",
    "    similarities = []\n",
    "    for i in range(0, data.size(0), batch_size):\n",
    "        batch = data[i:i + batch_size]\n",
    "        sim = cosine_similarity(batch.unsqueeze(1), data.unsqueeze(0), dim=2)\n",
    "        similarities.append(sim)\n",
    "    return torch.cat(similarities)\n",
    "\n",
    "# Compute similarity in batches\n",
    "similarity_matrix = batched_cosine_similarity(tensor_data, batch_size=100)\n",
    "print(similarity_matrix)\n",
    "\n",
    "G = nx.Graph()\n",
    "\n",
    "\n",
    "cells = list(cell_gene_matrix.index)\n",
    "G.add_nodes_from(cells)\n",
    "\n",
    "threshold = 0.9\n",
    "for i in range(len(cells)):\n",
    "    for j in range(i + 1, len(cells)):\n",
    "        if similarity_matrix[i, j] > threshold:\n",
    "            G.add_edge(cells[i], cells[j], weight=float(similarity_matrix[i, j]))\n"
   ]
  },
  {
   "cell_type": "code",
   "execution_count": 13,
   "metadata": {},
   "outputs": [
    {
     "name": "stdout",
     "output_type": "stream",
     "text": [
      "Number of nodes: 2675\n",
      "Number of edges: 1765327\n",
      "PyTorch Geometric Data Object:\n",
      "Data(x=[2675, 22], edge_index=[2, 1765327], edge_attr=[1765327])\n"
     ]
    }
   ],
   "source": [
    "print(\"Number of nodes:\", G.number_of_nodes())\n",
    "print(\"Number of edges:\", G.number_of_edges())\n",
    "\n",
    "\n",
    "edges = list(G.edges(data=True))  \n",
    "edge_index = torch.tensor([[edge[0], edge[1]] for edge in edges], dtype=torch.long).t()\n",
    "\n",
    "\n",
    "edge_weights = torch.tensor([edge[2][\"weight\"] for edge in edges], dtype=torch.float)\n",
    "\n",
    "\n",
    "node_features = torch.tensor(cell_gene_matrix.values, dtype=torch.float)\n",
    "\n",
    "\n",
    "mapping = {node: i for i, node in enumerate(G.nodes())}\n",
    "\n",
    "\n",
    "edge_index = torch.tensor([[mapping[edge[0]], mapping[edge[1]]] for edge in edges], dtype=torch.long).t()\n",
    "\n",
    "\n",
    "\n",
    "ordered_nodes = [node for node in G.nodes()]\n",
    "node_features = torch.tensor(cell_gene_matrix.loc[ordered_nodes].values, dtype=torch.float)\n",
    "\n",
    "\n",
    "graph_data = Data(x=node_features, edge_index=edge_index, edge_attr=edge_weights)\n",
    "\n",
    "\n",
    "print(\"PyTorch Geometric Data Object:\")\n",
    "print(graph_data)"
   ]
  },
  {
   "cell_type": "code",
   "execution_count": 14,
   "metadata": {},
   "outputs": [],
   "source": [
    "import torch.nn.functional as F\n",
    "from torch_geometric.nn import SAGEConv\n",
    "\n",
    "class GraphSAGE(torch.nn.Module):\n",
    "    def __init__(self, in_channels, hidden_channels, out_channels):\n",
    "        super(GraphSAGE, self).__init__()\n",
    "        \n",
    "        self.conv1 = SAGEConv(in_channels, hidden_channels)\n",
    "      \n",
    "        self.conv2 = SAGEConv(hidden_channels, out_channels)\n",
    "\n",
    "    def forward(self, x, edge_index):\n",
    "       \n",
    "        x = self.conv1(x, edge_index)\n",
    "        x = F.relu(x)\n",
    "   \n",
    "        x = self.conv2(x, edge_index)\n",
    "        return x"
   ]
  },
  {
   "cell_type": "code",
   "execution_count": null,
   "metadata": {},
   "outputs": [],
   "source": [
    "x = graph_data.x  \n",
    "edge_index = graph_data.edge_index "
   ]
  },
  {
   "cell_type": "code",
   "execution_count": null,
   "metadata": {},
   "outputs": [
    {
     "name": "stdout",
     "output_type": "stream",
     "text": [
      "Epoch 0, Loss: 51545.69140625\n",
      "Epoch 10, Loss: 7964.11572265625\n",
      "Epoch 20, Loss: 2929.4609375\n",
      "Epoch 30, Loss: 1202.0350341796875\n",
      "Epoch 40, Loss: 764.1469116210938\n",
      "Epoch 50, Loss: 660.765625\n",
      "Epoch 60, Loss: 349.624755859375\n",
      "Epoch 70, Loss: 786.30712890625\n",
      "Epoch 80, Loss: 333.4604797363281\n",
      "Epoch 90, Loss: 370.3026428222656\n"
     ]
    }
   ],
   "source": [
    "model = GraphSAGE(in_channels=x.size(1), hidden_channels=32, out_channels=16)\n",
    "optimizer = torch.optim.Adam(model.parameters(), lr=0.01)\n",
    "\n",
    "\n",
    "device = torch.device('cuda' if torch.cuda.is_available() else 'cpu')\n",
    "model = model.to(device)\n",
    "x, edge_index = x.to(device), edge_index.to(device)\n",
    "\n",
    "\n",
    "for epoch in range(10):\n",
    "    model.train()\n",
    "    optimizer.zero_grad()\n",
    "    \n",
    "\n",
    "    node_embeddings = model(x, edge_index)\n",
    "    \n",
    "    loss = torch.mean(torch.norm(node_embeddings, dim=1))  # Dummy loss\n",
    "    \n",
    "    loss.backward()\n",
    "    optimizer.step()\n",
    "\n",
    "    if epoch % 10 == 0:\n",
    "        print(f'Epoch {epoch}, Loss: {loss.item()}')\n"
   ]
  },
  {
   "cell_type": "code",
   "execution_count": 1,
   "metadata": {},
   "outputs": [
    {
     "ename": "NameError",
     "evalue": "name 'node_embeddings' is not defined",
     "output_type": "error",
     "traceback": [
      "\u001b[1;31m---------------------------------------------------------------------------\u001b[0m",
      "\u001b[1;31mNameError\u001b[0m                                 Traceback (most recent call last)",
      "Cell \u001b[1;32mIn[1], line 4\u001b[0m\n\u001b[0;32m      1\u001b[0m \u001b[38;5;28;01mfrom\u001b[39;00m\u001b[38;5;250m \u001b[39m\u001b[38;5;21;01msklearn\u001b[39;00m\u001b[38;5;21;01m.\u001b[39;00m\u001b[38;5;21;01mcluster\u001b[39;00m\u001b[38;5;250m \u001b[39m\u001b[38;5;28;01mimport\u001b[39;00m KMeans\n\u001b[1;32m----> 4\u001b[0m embeddings \u001b[38;5;241m=\u001b[39m \u001b[43mnode_embeddings\u001b[49m\u001b[38;5;241m.\u001b[39mdetach()\u001b[38;5;241m.\u001b[39mcpu()\u001b[38;5;241m.\u001b[39mnumpy()\n\u001b[0;32m      5\u001b[0m \u001b[38;5;28mprint\u001b[39m(embeddings)\n\u001b[0;32m      7\u001b[0m kmeans \u001b[38;5;241m=\u001b[39m KMeans(n_clusters\u001b[38;5;241m=\u001b[39m\u001b[38;5;241m5\u001b[39m, random_state\u001b[38;5;241m=\u001b[39m\u001b[38;5;241m42\u001b[39m)\u001b[38;5;241m.\u001b[39mfit(embeddings)\n",
      "\u001b[1;31mNameError\u001b[0m: name 'node_embeddings' is not defined"
     ]
    }
   ],
   "source": [
    "from sklearn.cluster import KMeans\n",
    "\n",
    "\n",
    "embeddings = node_embeddings.detach().cpu().numpy()\n",
    "print(embeddings)\n",
    "\n",
    "kmeans = KMeans(n_clusters=5, random_state=42).fit(embeddings)\n",
    "\n",
    "\n",
    "labels = kmeans.labels_\n",
    "print(\"Cluster Labels:\", labels)"
   ]
  },
  {
   "cell_type": "code",
   "execution_count": null,
   "metadata": {},
   "outputs": [
    {
     "data": {
      "image/png": "[encoded data removed]",
      "text/plain": [
       "<Figure size 640x480 with 1 Axes>"
      ]
     },
     "metadata": {},
     "output_type": "display_data"
    }
   ],
   "source": [
    "import matplotlib.pyplot as plt\n",
    "from sklearn.decomposition import PCA\n",
    "\n",
    "\n",
    "pca = PCA(n_components=2)\n",
    "reduced_embeddings = pca.fit_transform(embeddings)\n",
    "\n",
    "plt.scatter(reduced_embeddings[:, 0], reduced_embeddings[:, 1], c=labels, cmap='viridis')\n",
    "plt.title(\"Graph Clustering with GraphSAGE\")\n",
    "plt.show()"
   ]
  },
  {
   "cell_type": "code",
   "execution_count": null,
   "metadata": {},
   "outputs": [
    {
     "name": "stdout",
     "output_type": "stream",
     "text": [
      "Node Embeddings Shape: torch.Size([2675, 16])\n"
     ]
    }
   ],
   "source": [
    "\n",
    "model.eval()\n",
    "\n",
    "with torch.no_grad():\n",
    "    node_embeddings = model(graph_data.x, graph_data.edge_index)\n",
    "\n",
    "print(\"Node Embeddings Shape:\", node_embeddings.shape)"
   ]
  },
  {
   "cell_type": "code",
   "execution_count": null,
   "metadata": {},
   "outputs": [
    {
     "name": "stdout",
     "output_type": "stream",
     "text": [
      "Cluster Assignments: [0 0 0 ... 1 1 1]\n"
     ]
    }
   ],
   "source": [
    "from sklearn.cluster import KMeans\n",
    "\n",
    "\n",
    "num_clusters = 5  \n",
    "kmeans = KMeans(n_clusters=num_clusters, random_state=42)\n",
    "\n",
    "\n",
    "clusters = kmeans.fit_predict(node_embeddings.cpu().numpy())\n",
    "\n",
    "print(\"Cluster Assignments:\", clusters)"
   ]
  },
  {
   "cell_type": "code",
   "execution_count": null,
   "metadata": {},
   "outputs": [
    {
     "name": "stdout",
     "output_type": "stream",
     "text": [
      "Silhouette Score: 0.45487213\n"
     ]
    }
   ],
   "source": [
    "from sklearn.metrics import silhouette_score\n",
    "\n",
    "\n",
    "sil_score = silhouette_score(node_embeddings.cpu().numpy(), clusters)\n",
    "print(\"Silhouette Score:\", sil_score)"
   ]
  }
 ],
 "metadata": {
  "kernelspec": {
   "display_name": "Python 3",
   "language": "python",
   "name": "python3"
  },
  "language_info": {
   "codemirror_mode": {
    "name": "ipython",
    "version": 3
   },
   "file_extension": ".py",
   "mimetype": "text/x-python",
   "name": "python",
   "nbconvert_exporter": "python",
   "pygments_lexer": "ipython3",
   "version": "3.11.9"
  }
 },
 "nbformat": 4,
 "nbformat_minor": 2
}
