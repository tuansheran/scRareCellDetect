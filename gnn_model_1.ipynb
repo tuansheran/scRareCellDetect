{
 "cells": [
  {
   "cell_type": "code",
   "execution_count": null,
   "metadata": {},
   "outputs": [],
   "source": [
    "import torch\n",
    "import numpy as np\n",
    "from scipy.io import mmread\n",
    "import torch.nn.functional as F\n",
    "from torch_geometric.data import Data\n",
    "from torch_geometric.nn import SAGEConv\n",
    "from sklearn.metrics.pairwise import euclidean_distances\n",
    "import torch.optim as optim\n",
    "from sklearn.cluster import KMeans\n",
    "import torch_geometric.utils as pyg_utils"
   ]
  },
  {
   "cell_type": "code",
   "execution_count": null,
   "metadata": {},
   "outputs": [],
   "source": [
    "#check cuda \n",
    "print(torch.cuda.is_available()) \n",
    "print(torch.version.cuda)\n",
    "print(torch.__version__)"
   ]
  },
  {
   "cell_type": "code",
   "execution_count": null,
   "metadata": {},
   "outputs": [],
   "source": [
    "rawData = mmread('scRNA.mtx')\n",
    "coo_matrix = rawData.tocoo()\n",
    "print(coo_matrix)\n",
    "print(coo_matrix.shape)"
   ]
  },
  {
   "cell_type": "code",
   "execution_count": null,
   "metadata": {},
   "outputs": [],
   "source": [
    "def clean_and_split_data(coo_matrix, max_number):\n",
    "    #get only non-zero values\n",
    "    total_nnz = coo_matrix.nnz \n",
    "\n",
    "    # Ensure max_nnz doesn’t exceed total\n",
    "    if max_number >= total_nnz:\n",
    "        raise ValueError(f\"max_nnz ({max_number}) must be less than total non-zero elements ({total_nnz})\")\n",
    "    \n",
    "    rows = coo_matrix.row\n",
    "    cols = coo_matrix.col\n",
    "    data = coo_matrix.data\n",
    "    \n",
    "    selected_indices = np.arange(max_number)  \n",
    "\n",
    "    selected = coo_matrix.__class__(\n",
    "        (data[selected_indices], (rows[selected_indices], cols[selected_indices])),\n",
    "        shape=coo_matrix.shape\n",
    "    )\n",
    "    \n",
    "    return selected\n",
    "\n",
    "processed_data = clean_and_split_data(coo_matrix=coo_matrix, max_number=1000000)\n",
    "print(processed_data)"
   ]
  },
  {
   "cell_type": "code",
   "execution_count": null,
   "metadata": {},
   "outputs": [],
   "source": [
    "def build_cell_to_cell_graph_normal(data, threshold):   \n",
    "\n",
    "    gene_expression = data.data\n",
    "    outliers = []\n",
    "    x = torch.tensor(gene_expression, dtype=torch.float32).unsqueeze(1)\n",
    "\n",
    "    k = 2  \n",
    "    distance_threshold = 500 \n",
    "    distances = euclidean_distances(x, x)\n",
    "\n",
    "    edge_index_list = []\n",
    "\n",
    "    for i in range(len(gene_expression)):\n",
    "        nearest_neighbors = np.argsort(distances[i])[1:k+1]  \n",
    "        for j in nearest_neighbors:\n",
    "            if distances[i, j] <= threshold:\n",
    "                edge_index_list.append((i, j))\n",
    "            else:\n",
    "                outliers.append(int(j))\n",
    "\n",
    "    edge_index_np = np.array(edge_index_list).T\n",
    "    edge_index = torch.tensor(edge_index_np, dtype=torch.long) if edge_index_np.size > 0 else torch.empty((2, 0), dtype=torch.long)\n",
    "\n",
    "    source_cells = cells[edge_index_np[0]]\n",
    "    target_cells = cells[edge_index_np[1]]\n",
    "\n",
    "    for src, tgt in zip(source_cells, target_cells):\n",
    "        print(f\"Cell {src} is connected to Cell {tgt}\")\n",
    "\n",
    "  \n",
    "    cleaned_outliers = list(set(outliers))\n",
    "    print(cleaned_outliers)\n",
    "    \n",
    "  \n",
    "    data = Data(edge_index=edge_index, x=x)\n",
    "    return data\n",
    "\n",
    "py_data = build_cell_to_cell_graph_normal(processed_data, threshold=500)"
   ]
  },
  {
   "cell_type": "code",
   "execution_count": null,
   "metadata": {},
   "outputs": [],
   "source": [
    "class GraphSAGE(torch.nn.Module):\n",
    "    def __init__(self, in_channels, hidden_channels, out_channels, num_layers=2):\n",
    "        super(GraphSAGE, self).__init__()\n",
    "        self.convs = torch.nn.ModuleList()\n",
    "        self.convs.append(SAGEConv(in_channels, hidden_channels))  \n",
    "        \n",
    "        for _ in range(num_layers - 2):  \n",
    "            self.convs.append(SAGEConv(hidden_channels, hidden_channels))\n",
    "        \n",
    "        self.convs.append(SAGEConv(hidden_channels, out_channels))  \n",
    "\n",
    "    def forward(self, x, edge_index):\n",
    "        for conv in self.convs[:-1]: \n",
    "            x = conv(x, edge_index)\n",
    "            x = F.relu(x)\n",
    "            x = F.dropout(x, p=0.5, training=self.training)\n",
    "        x = self.convs[-1](x, edge_index) \n",
    "        return x  "
   ]
  },
  {
   "cell_type": "code",
   "execution_count": null,
   "metadata": {},
   "outputs": [],
   "source": []
  },
  {
   "cell_type": "code",
   "execution_count": null,
   "metadata": {},
   "outputs": [],
   "source": []
  },
  {
   "cell_type": "code",
   "execution_count": null,
   "metadata": {},
   "outputs": [],
   "source": []
  },
  {
   "cell_type": "code",
   "execution_count": null,
   "metadata": {},
   "outputs": [],
   "source": []
  }
 ],
 "metadata": {
  "language_info": {
   "name": "python"
  }
 },
 "nbformat": 4,
 "nbformat_minor": 2
}
