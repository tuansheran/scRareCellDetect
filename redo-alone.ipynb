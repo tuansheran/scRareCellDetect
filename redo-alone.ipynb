{
 "cells": [
  {
   "cell_type": "code",
   "execution_count": null,
   "metadata": {},
   "outputs": [],
   "source": [
    "# %pip install torch\n",
    "# %pip install torch_geometric\n",
    "# %pip install networkx"
   ]
  },
  {
   "cell_type": "code",
   "execution_count": null,
   "metadata": {},
   "outputs": [],
   "source": [
    "from scipy.io import mmread\n",
    "from torch_geometric.data import Data\n",
    "import torch.nn.functional as F\n",
    "from sklearn.neighbors import kneighbors_graph\n",
    "import torch\n",
    "from torch_geometric.data import Data\n",
    "\n"
   ]
  },
  {
   "cell_type": "code",
   "execution_count": 2,
   "metadata": {},
   "outputs": [
    {
     "name": "stdout",
     "output_type": "stream",
     "text": [
      "<COOrdinate sparse matrix of dtype 'float64'\n",
      "\twith 86422438 stored elements and shape (34619, 27180)>\n",
      "  Coords\tValues\n",
      "  (30, 0)\t878.85046\n",
      "  (44, 0)\t2636.5513\n",
      "  (58, 0)\t878.85046\n",
      "  (74, 0)\t878.85046\n",
      "  (77, 0)\t878.85046\n",
      "  (109, 0)\t878.85046\n",
      "  (225, 0)\t3515.4019\n",
      "  (247, 0)\t878.85046\n",
      "  (272, 0)\t878.85046\n",
      "  (273, 0)\t1318.2756\n",
      "  (365, 0)\t878.85046\n",
      "  (366, 0)\t2636.5513\n",
      "  (421, 0)\t878.85046\n",
      "  (431, 0)\t1757.7009\n",
      "  (440, 0)\t878.85046\n",
      "  (442, 0)\t5273.1025\n",
      "  (499, 0)\t16698.158\n",
      "  (594, 0)\t878.85046\n",
      "  (649, 0)\t1757.7009\n",
      "  (688, 0)\t878.85046\n",
      "  (706, 0)\t878.85046\n",
      "  (831, 0)\t1757.7009\n",
      "  (835, 0)\t2636.5513\n",
      "  (867, 0)\t878.85046\n",
      "  (911, 0)\t2636.5513\n",
      "  :\t:\n",
      "  (32162, 27179)\t142.14685\n",
      "  (32202, 27179)\t88.841736\n",
      "  (32298, 27179)\t177.68347\n",
      "  (32423, 27179)\t59.227825\n",
      "  (32425, 27179)\t177.68347\n",
      "  (32564, 27179)\t88.841736\n",
      "  (33015, 27179)\t177.68347\n",
      "  (33454, 27179)\t177.68347\n",
      "  (33504, 27179)\t177.68347\n",
      "  (33538, 27179)\t177.68347\n",
      "  (33578, 27179)\t88.841736\n",
      "  (33636, 27179)\t177.68347\n",
      "  (33647, 27179)\t284.01257\n",
      "  (33727, 27179)\t88.841736\n",
      "  (33783, 27179)\t177.68347\n",
      "  (33801, 27179)\t177.68347\n",
      "  (33809, 27179)\t177.68347\n",
      "  (33814, 27179)\t177.68347\n",
      "  (33955, 27179)\t177.68347\n",
      "  (34155, 27179)\t59.227825\n",
      "  (34157, 27179)\t355.36694\n",
      "  (34188, 27179)\t1.9998602\n",
      "  (34279, 27179)\t177.68347\n",
      "  (34368, 27179)\t88.841736\n",
      "  (34393, 27179)\t1602.0801\n"
     ]
    }
   ],
   "source": [
    "rawData = mmread('scRNA.mtx')\n",
    "coo_matrix = rawData.tocoo()\n",
    "print(coo_matrix)"
   ]
  },
  {
   "cell_type": "code",
   "execution_count": null,
   "metadata": {},
   "outputs": [],
   "source": []
  },
  {
   "cell_type": "code",
   "execution_count": null,
   "metadata": {},
   "outputs": [
    {
     "name": "stdout",
     "output_type": "stream",
     "text": [
      "tensor([[ 0],\n",
      "        [ 1],\n",
      "        [ 2],\n",
      "        [ 3],\n",
      "        [ 4],\n",
      "        [ 5],\n",
      "        [ 6],\n",
      "        [ 7],\n",
      "        [ 6],\n",
      "        [ 8],\n",
      "        [ 9],\n",
      "        [20],\n",
      "        [40],\n",
      "        [50],\n",
      "        [60],\n",
      "        [70],\n",
      "        [60]], dtype=torch.int32) tensor([[120],\n",
      "        [120],\n",
      "        [110],\n",
      "        [100],\n",
      "        [ 90],\n",
      "        [ 30],\n",
      "        [ 89],\n",
      "        [100],\n",
      "        [ 90],\n",
      "        [ 70]], dtype=torch.int16)\n",
      "tensor([[0, 0, 1, 1, 2, 2, 3, 3, 4, 4, 5, 5, 6, 6, 7, 7, 8, 8, 9, 9],\n",
      "        [1, 2, 0, 2, 0, 1, 7, 2, 8, 6, 9, 6, 8, 4, 3, 2, 4, 6, 6, 4]])\n",
      "Data(edge_index=[2, 20])\n"
     ]
    }
   ],
   "source": [
    "\n",
    "\n",
    "def build_cell_to_cell_graph(data):\n",
    "    \n",
    "    fakeDataSetCells = [0,1,2,3,4,5,6,7,6,8,9,20,40,50,60,70,60]\n",
    "    fakeDataSetExpressions = [120,120,110,100,90,30,89,100,90,70]\n",
    "    #get the scRNA data\n",
    "    # cells= data.row\n",
    "    # geneExpressions = data.data\n",
    "\n",
    "    #using dtype.torch.int32/int16 is memory efficent\n",
    "    #int32 4bytes int16 2bytes\n",
    "    #unsqueeze adds dimenstions to tensor data\n",
    "    x = torch.tensor(fakeDataSetCells, dtype=torch.int32).unsqueeze(1) \n",
    "    y = torch.tensor(fakeDataSetExpressions, dtype=torch.int16).unsqueeze(1)\n",
    "    print(x,y)\n",
    "\n",
    "\n",
    "    #find top 5 smiliar cells using k-nearest neibgour \n",
    "    k = 2  # Number of neighbors (adjust based on your needs)\n",
    "    adj_matrix = kneighbors_graph(y, n_neighbors=k, mode='connectivity', include_self=False)\n",
    "    edge_index = torch.tensor(adj_matrix.nonzero(), dtype=torch.long)\n",
    "    \n",
    "    print(edge_index)\n",
    "    # print(similarity_matrix)\n",
    "    data = Data(edge_index=edge_index)\n",
    "    return data\n",
    "\n",
    "\n",
    "build_cell_to_cell_graph(coo_matrix)"
   ]
  },
  {
   "cell_type": "code",
   "execution_count": null,
   "metadata": {},
   "outputs": [],
   "source": [
    "\n"
   ]
  }
 ],
 "metadata": {
  "kernelspec": {
   "display_name": "venv",
   "language": "python",
   "name": "python3"
  },
  "language_info": {
   "codemirror_mode": {
    "name": "ipython",
    "version": 3
   },
   "file_extension": ".py",
   "mimetype": "text/x-python",
   "name": "python",
   "nbconvert_exporter": "python",
   "pygments_lexer": "ipython3",
   "version": "3.11.9"
  }
 },
 "nbformat": 4,
 "nbformat_minor": 2
}
