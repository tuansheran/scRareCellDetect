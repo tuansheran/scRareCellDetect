{
 "cells": [
  {
   "cell_type": "code",
   "execution_count": 7,
   "metadata": {},
   "outputs": [
    {
     "name": "stdout",
     "output_type": "stream",
     "text": [
      "Requirement already satisfied: torch in c:\\users\\shera\\onedrive\\desktop\\scrarecelldetect\\venv\\lib\\site-packages (2.6.0)\n",
      "Requirement already satisfied: filelock in c:\\users\\shera\\onedrive\\desktop\\scrarecelldetect\\venv\\lib\\site-packages (from torch) (3.17.0)\n",
      "Requirement already satisfied: typing-extensions>=4.10.0 in c:\\users\\shera\\onedrive\\desktop\\scrarecelldetect\\venv\\lib\\site-packages (from torch) (4.12.2)\n",
      "Requirement already satisfied: networkx in c:\\users\\shera\\onedrive\\desktop\\scrarecelldetect\\venv\\lib\\site-packages (from torch) (3.4.1)\n",
      "Requirement already satisfied: jinja2 in c:\\users\\shera\\onedrive\\desktop\\scrarecelldetect\\venv\\lib\\site-packages (from torch) (3.1.5)\n",
      "Requirement already satisfied: fsspec in c:\\users\\shera\\onedrive\\desktop\\scrarecelldetect\\venv\\lib\\site-packages (from torch) (2024.12.0)\n",
      "Requirement already satisfied: sympy==1.13.1 in c:\\users\\shera\\onedrive\\desktop\\scrarecelldetect\\venv\\lib\\site-packages (from torch) (1.13.1)\n",
      "Requirement already satisfied: mpmath<1.4,>=1.1.0 in c:\\users\\shera\\onedrive\\desktop\\scrarecelldetect\\venv\\lib\\site-packages (from sympy==1.13.1->torch) (1.3.0)\n",
      "Requirement already satisfied: MarkupSafe>=2.0 in c:\\users\\shera\\onedrive\\desktop\\scrarecelldetect\\venv\\lib\\site-packages (from jinja2->torch) (3.0.2)\n",
      "Note: you may need to restart the kernel to use updated packages.\n"
     ]
    },
    {
     "name": "stderr",
     "output_type": "stream",
     "text": [
      "\n",
      "[notice] A new release of pip is available: 24.0 -> 25.0.1\n",
      "[notice] To update, run: python.exe -m pip install --upgrade pip\n"
     ]
    },
    {
     "name": "stdout",
     "output_type": "stream",
     "text": [
      "Requirement already satisfied: torch_geometric in c:\\users\\shera\\onedrive\\desktop\\scrarecelldetect\\venv\\lib\\site-packages (2.6.1)\n",
      "Requirement already satisfied: aiohttp in c:\\users\\shera\\onedrive\\desktop\\scrarecelldetect\\venv\\lib\\site-packages (from torch_geometric) (3.11.11)\n",
      "Requirement already satisfied: fsspec in c:\\users\\shera\\onedrive\\desktop\\scrarecelldetect\\venv\\lib\\site-packages (from torch_geometric) (2024.12.0)\n",
      "Requirement already satisfied: jinja2 in c:\\users\\shera\\onedrive\\desktop\\scrarecelldetect\\venv\\lib\\site-packages (from torch_geometric) (3.1.5)\n",
      "Requirement already satisfied: numpy in c:\\users\\shera\\onedrive\\desktop\\scrarecelldetect\\venv\\lib\\site-packages (from torch_geometric) (2.1.2)\n",
      "Requirement already satisfied: psutil>=5.8.0 in c:\\users\\shera\\onedrive\\desktop\\scrarecelldetect\\venv\\lib\\site-packages (from torch_geometric) (6.1.1)\n",
      "Requirement already satisfied: pyparsing in c:\\users\\shera\\onedrive\\desktop\\scrarecelldetect\\venv\\lib\\site-packages (from torch_geometric) (3.2.0)\n",
      "Requirement already satisfied: requests in c:\\users\\shera\\onedrive\\desktop\\scrarecelldetect\\venv\\lib\\site-packages (from torch_geometric) (2.32.3)\n",
      "Requirement already satisfied: tqdm in c:\\users\\shera\\onedrive\\desktop\\scrarecelldetect\\venv\\lib\\site-packages (from torch_geometric) (4.67.1)\n",
      "Requirement already satisfied: aiohappyeyeballs>=2.3.0 in c:\\users\\shera\\onedrive\\desktop\\scrarecelldetect\\venv\\lib\\site-packages (from aiohttp->torch_geometric) (2.4.4)\n",
      "Requirement already satisfied: aiosignal>=1.1.2 in c:\\users\\shera\\onedrive\\desktop\\scrarecelldetect\\venv\\lib\\site-packages (from aiohttp->torch_geometric) (1.3.2)\n",
      "Requirement already satisfied: attrs>=17.3.0 in c:\\users\\shera\\onedrive\\desktop\\scrarecelldetect\\venv\\lib\\site-packages (from aiohttp->torch_geometric) (25.1.0)\n",
      "Requirement already satisfied: frozenlist>=1.1.1 in c:\\users\\shera\\onedrive\\desktop\\scrarecelldetect\\venv\\lib\\site-packages (from aiohttp->torch_geometric) (1.5.0)\n",
      "Requirement already satisfied: multidict<7.0,>=4.5 in c:\\users\\shera\\onedrive\\desktop\\scrarecelldetect\\venv\\lib\\site-packages (from aiohttp->torch_geometric) (6.1.0)\n",
      "Requirement already satisfied: propcache>=0.2.0 in c:\\users\\shera\\onedrive\\desktop\\scrarecelldetect\\venv\\lib\\site-packages (from aiohttp->torch_geometric) (0.2.1)\n",
      "Requirement already satisfied: yarl<2.0,>=1.17.0 in c:\\users\\shera\\onedrive\\desktop\\scrarecelldetect\\venv\\lib\\site-packages (from aiohttp->torch_geometric) (1.18.3)\n",
      "Requirement already satisfied: MarkupSafe>=2.0 in c:\\users\\shera\\onedrive\\desktop\\scrarecelldetect\\venv\\lib\\site-packages (from jinja2->torch_geometric) (3.0.2)\n",
      "Requirement already satisfied: charset-normalizer<4,>=2 in c:\\users\\shera\\onedrive\\desktop\\scrarecelldetect\\venv\\lib\\site-packages (from requests->torch_geometric) (3.4.1)\n",
      "Requirement already satisfied: idna<4,>=2.5 in c:\\users\\shera\\onedrive\\desktop\\scrarecelldetect\\venv\\lib\\site-packages (from requests->torch_geometric) (3.10)\n",
      "Requirement already satisfied: urllib3<3,>=1.21.1 in c:\\users\\shera\\onedrive\\desktop\\scrarecelldetect\\venv\\lib\\site-packages (from requests->torch_geometric) (2.3.0)\n",
      "Requirement already satisfied: certifi>=2017.4.17 in c:\\users\\shera\\onedrive\\desktop\\scrarecelldetect\\venv\\lib\\site-packages (from requests->torch_geometric) (2025.1.31)\n",
      "Requirement already satisfied: colorama in c:\\users\\shera\\onedrive\\desktop\\scrarecelldetect\\venv\\lib\\site-packages (from tqdm->torch_geometric) (0.4.6)\n",
      "Note: you may need to restart the kernel to use updated packages.\n"
     ]
    },
    {
     "name": "stderr",
     "output_type": "stream",
     "text": [
      "\n",
      "[notice] A new release of pip is available: 24.0 -> 25.0.1\n",
      "[notice] To update, run: python.exe -m pip install --upgrade pip\n"
     ]
    },
    {
     "name": "stdout",
     "output_type": "stream",
     "text": [
      "Requirement already satisfied: networkx in c:\\users\\shera\\onedrive\\desktop\\scrarecelldetect\\venv\\lib\\site-packages (3.4.1)\n",
      "Note: you may need to restart the kernel to use updated packages.\n"
     ]
    },
    {
     "name": "stderr",
     "output_type": "stream",
     "text": [
      "\n",
      "[notice] A new release of pip is available: 24.0 -> 25.0.1\n",
      "[notice] To update, run: python.exe -m pip install --upgrade pip\n"
     ]
    }
   ],
   "source": [
    "%pip install torch\n",
    "%pip install torch_geometric\n",
    "%pip install networkx"
   ]
  },
  {
   "cell_type": "code",
   "execution_count": 18,
   "metadata": {},
   "outputs": [],
   "source": [
    "import torch\n",
    "import torch.nn.functional as F\n",
    "from scipy.io import mmread\n",
    "from torch_geometric.data import Data\n",
    "from torch_geometric.nn import SAGEConv\n",
    "from sklearn.neighbors import kneighbors_graph"
   ]
  },
  {
   "cell_type": "code",
   "execution_count": 35,
   "metadata": {},
   "outputs": [
    {
     "name": "stdout",
     "output_type": "stream",
     "text": [
      "<COOrdinate sparse matrix of dtype 'float64'\n",
      "\twith 86422438 stored elements and shape (34619, 27180)>\n",
      "  Coords\tValues\n",
      "  (30, 0)\t878.85046\n",
      "  (44, 0)\t2636.5513\n",
      "  (58, 0)\t878.85046\n",
      "  (74, 0)\t878.85046\n",
      "  (77, 0)\t878.85046\n",
      "  (109, 0)\t878.85046\n",
      "  (225, 0)\t3515.4019\n",
      "  (247, 0)\t878.85046\n",
      "  (272, 0)\t878.85046\n",
      "  (273, 0)\t1318.2756\n",
      "  (365, 0)\t878.85046\n",
      "  (366, 0)\t2636.5513\n",
      "  (421, 0)\t878.85046\n",
      "  (431, 0)\t1757.7009\n",
      "  (440, 0)\t878.85046\n",
      "  (442, 0)\t5273.1025\n",
      "  (499, 0)\t16698.158\n",
      "  (594, 0)\t878.85046\n",
      "  (649, 0)\t1757.7009\n",
      "  (688, 0)\t878.85046\n",
      "  (706, 0)\t878.85046\n",
      "  (831, 0)\t1757.7009\n",
      "  (835, 0)\t2636.5513\n",
      "  (867, 0)\t878.85046\n",
      "  (911, 0)\t2636.5513\n",
      "  :\t:\n",
      "  (32162, 27179)\t142.14685\n",
      "  (32202, 27179)\t88.841736\n",
      "  (32298, 27179)\t177.68347\n",
      "  (32423, 27179)\t59.227825\n",
      "  (32425, 27179)\t177.68347\n",
      "  (32564, 27179)\t88.841736\n",
      "  (33015, 27179)\t177.68347\n",
      "  (33454, 27179)\t177.68347\n",
      "  (33504, 27179)\t177.68347\n",
      "  (33538, 27179)\t177.68347\n",
      "  (33578, 27179)\t88.841736\n",
      "  (33636, 27179)\t177.68347\n",
      "  (33647, 27179)\t284.01257\n",
      "  (33727, 27179)\t88.841736\n",
      "  (33783, 27179)\t177.68347\n",
      "  (33801, 27179)\t177.68347\n",
      "  (33809, 27179)\t177.68347\n",
      "  (33814, 27179)\t177.68347\n",
      "  (33955, 27179)\t177.68347\n",
      "  (34155, 27179)\t59.227825\n",
      "  (34157, 27179)\t355.36694\n",
      "  (34188, 27179)\t1.9998602\n",
      "  (34279, 27179)\t177.68347\n",
      "  (34368, 27179)\t88.841736\n",
      "  (34393, 27179)\t1602.0801\n"
     ]
    }
   ],
   "source": [
    "rawData = mmread('scRNA.mtx')\n",
    "coo_matrix = rawData.tocoo()\n",
    "print(coo_matrix)"
   ]
  },
  {
   "cell_type": "code",
   "execution_count": 36,
   "metadata": {},
   "outputs": [
    {
     "name": "stdout",
     "output_type": "stream",
     "text": [
      "tensor([[ 0.],\n",
      "        [ 1.],\n",
      "        [ 2.],\n",
      "        [ 3.],\n",
      "        [ 4.],\n",
      "        [ 5.],\n",
      "        [ 6.],\n",
      "        [ 7.],\n",
      "        [ 6.],\n",
      "        [ 8.],\n",
      "        [ 9.],\n",
      "        [20.],\n",
      "        [40.],\n",
      "        [50.],\n",
      "        [60.],\n",
      "        [70.],\n",
      "        [60.]]) tensor([[120.],\n",
      "        [120.],\n",
      "        [110.],\n",
      "        [100.],\n",
      "        [ 90.],\n",
      "        [ 30.],\n",
      "        [ 89.],\n",
      "        [100.],\n",
      "        [ 90.],\n",
      "        [ 70.]])\n",
      "tensor([[0, 0, 1, 1, 2, 2, 3, 3, 4, 4, 5, 5, 6, 6, 7, 7, 8, 8, 9, 9],\n",
      "        [1, 2, 0, 2, 0, 1, 7, 2, 8, 6, 9, 6, 8, 4, 3, 2, 4, 6, 6, 4]])\n"
     ]
    }
   ],
   "source": [
    "def build_cell_to_cell_graph(data):\n",
    "    \n",
    "    fakeDataSetCells = [0,1,2,3,4,5,6,7,6,8,9,20,40,50,60,70,60]\n",
    "    fakeDataSetExpressions = [120,120,110,100,90,30,89,100,90,70]\n",
    "\n",
    "   \n",
    "    x = torch.tensor(fakeDataSetCells, dtype=torch.float32).unsqueeze(1) \n",
    "    y = torch.tensor(fakeDataSetExpressions, dtype=torch.float32).unsqueeze(1)\n",
    "    print(x,y)\n",
    "\n",
    "    #find top 5 smiliar cells using k-nearest neibgour \n",
    "    k = 2  # number of neighbors (adjust based on your needs)\n",
    "    adj_matrix = kneighbors_graph(y, n_neighbors=k, mode='connectivity', include_self=False)\n",
    "    edge_index = torch.tensor(adj_matrix.nonzero(), dtype=torch.long)\n",
    "    \n",
    "    print(edge_index)\n",
    "    # print(similarity_matrix)\n",
    "    data = Data(edge_index=edge_index, x=x)\n",
    "    return data\n",
    "\n",
    "data = build_cell_to_cell_graph(coo_matrix)"
   ]
  },
  {
   "cell_type": "code",
   "execution_count": null,
   "metadata": {},
   "outputs": [],
   "source": [
    "\n",
    "num_nodes = 10\n",
    "\n",
    "class GraphSAGE(torch.nn.Module):\n",
    "    def __init__(self, in_channels, hidden_channels, out_channels):\n",
    "        super(GraphSAGE, self).__init__()\n",
    "        self.conv1 = SAGEConv(in_channels, hidden_channels, aggr=\"mean\")\n",
    "        self.conv2 = SAGEConv(hidden_channels, out_channels, aggr=\"mean\")\n",
    "    \n",
    "    def forward(self, x, edge_index):\n",
    "        x = F.relu(self.conv1(x, edge_index))\n",
    "        x = self.conv2(x, edge_index)\n",
    "        return x\n",
    "\n",
    "def contrastive_clustering_loss(embeddings, edge_index,margin=1.0):\n",
    "    src, dst = edge_index\n",
    "\n",
    "    pos_distances = (embeddings[src] - embeddings[dst]).pow(2).sum(dim=1)\n",
    "\n",
    "    neg_dst = torch.randint(0, embeddings.size(0), (edge_index.size(1),), device=embeddings.device)\n",
    "    neg_distances = (embeddings[src] - embeddings[neg_dst]).pow(2).sum(dim=1)\n",
    "\n",
    "    loss = F.relu(pos_distances - neg_distances + margin).mean()\n",
    "\n",
    "    return loss"
   ]
  },
  {
   "cell_type": "code",
   "execution_count": 38,
   "metadata": {},
   "outputs": [],
   "source": [
    "device = torch.device('cuda' if torch.cuda.is_available() else 'cpu')\n",
    "data = data.to(device)\n",
    "model = GraphSAGE(in_channels=1, hidden_channels=16, out_channels=16).to(device)\n",
    "optimizer = torch.optim.Adam(model.parameters(), lr=0.01)"
   ]
  },
  {
   "cell_type": "code",
   "execution_count": null,
   "metadata": {},
   "outputs": [
    {
     "name": "stdout",
     "output_type": "stream",
     "text": [
      "Epoch: 000, Loss: 4.8160\n",
      "Epoch: 020, Loss: 0.4742\n",
      "Epoch: 040, Loss: 0.7745\n",
      "Epoch: 060, Loss: 0.1530\n",
      "Epoch: 080, Loss: 0.1027\n",
      "Epoch: 100, Loss: 0.1681\n",
      "Epoch: 120, Loss: 0.1263\n",
      "Epoch: 140, Loss: 0.1193\n",
      "Epoch: 160, Loss: 0.3546\n",
      "Epoch: 180, Loss: 0.1715\n"
     ]
    }
   ],
   "source": [
    "for epoch in range(200):\n",
    "    model.train()\n",
    "    optimizer.zero_grad()\n",
    "    embeddings = model(data.x, data.edge_index)\n",
    "    loss = contrastive_clustering_loss(embeddings, data.edge_index)\n",
    "    loss.backward()\n",
    "    optimizer.step()\n",
    "    if epoch % 20 == 0:\n",
    "        print(f'Epoch: {epoch:03d}, Loss: {loss:.4f}')"
   ]
  },
  {
   "cell_type": "code",
   "execution_count": null,
   "metadata": {},
   "outputs": [],
   "source": []
  }
 ],
 "metadata": {
  "kernelspec": {
   "display_name": "venv",
   "language": "python",
   "name": "python3"
  },
  "language_info": {
   "codemirror_mode": {
    "name": "ipython",
    "version": 3
   },
   "file_extension": ".py",
   "mimetype": "text/x-python",
   "name": "python",
   "nbconvert_exporter": "python",
   "pygments_lexer": "ipython3",
   "version": "3.11.9"
  }
 },
 "nbformat": 4,
 "nbformat_minor": 2
}
