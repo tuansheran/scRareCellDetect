{
 "cells": [
  {
   "cell_type": "code",
   "execution_count": 3,
   "metadata": {},
   "outputs": [],
   "source": [
    "from scipy.io import mmread\n",
    "import pandas as pd\n",
    "from scipy import sparse\n",
    "from torch_geometric.data import Data\n",
    "import networkx as nx\n",
    "import torch"
   ]
  },
  {
   "cell_type": "code",
   "execution_count": 4,
   "metadata": {},
   "outputs": [
    {
     "name": "stdout",
     "output_type": "stream",
     "text": [
      "count    8.642244e+07\n",
      "mean     3.145017e+02\n",
      "std      1.474521e+03\n",
      "min      3.754523e-02\n",
      "25%      4.758733e+01\n",
      "50%      9.236428e+01\n",
      "75%      2.114828e+02\n",
      "max      9.125702e+05\n",
      "Name: expression, dtype: float64\n"
     ]
    }
   ],
   "source": [
    "rawData = mmread('scRNA.mtx')\n",
    "coo_matrix = rawData.tocoo()\n",
    "\n",
    "pd_data = pd.DataFrame({\n",
    "    \"gene\": coo_matrix.row,\n",
    "    \"cell\": coo_matrix.col,\n",
    "    \"expression\": coo_matrix.data\n",
    "})\n",
    "\n",
    "print(pd_data['expression'].describe())"
   ]
  },
  {
   "cell_type": "code",
   "execution_count": 5,
   "metadata": {},
   "outputs": [
    {
     "name": "stdout",
     "output_type": "stream",
     "text": [
      "           gene   cell  expression\n",
      "283697    17096     81   99604.250\n",
      "284331    17096     82  106040.600\n",
      "395840    17096    117  112160.500\n",
      "507749    17096    145  128562.520\n",
      "601163    17096    181   80766.540\n",
      "...         ...    ...         ...\n",
      "86389399  24531  27163   90961.086\n",
      "86393126  24531  27165   80971.110\n",
      "86398624  24531  27167   89592.860\n",
      "86412018  24531  27174  109349.640\n",
      "86422299  24531  27179   95590.130\n",
      "\n",
      "[2983 rows x 3 columns]\n"
     ]
    }
   ],
   "source": [
    "def filterData(data): \n",
    "    threshold_lower = 80000\n",
    "    data_filtered = data[data['expression'] > threshold_lower] \n",
    "\n",
    "    return data_filtered\n",
    "\n",
    "def convertToSparseMatrixCOO(data):\n",
    "    cell = data['cell']\n",
    "    gene = data['gene']\n",
    "    expression = data['expression']\n",
    "\n",
    "    coo_matrix = sparse.coo_matrix((expression, (cell, gene)), dtype='float64')\n",
    "    return coo_matrix\n",
    "\n",
    "filtred_data = filterData(pd_data)\n",
    "converted_data = convertToSparseMatrixCOO(filtred_data)\n",
    "print(filtred_data)"
   ]
  },
  {
   "cell_type": "code",
   "execution_count": null,
   "metadata": {},
   "outputs": [],
   "source": []
  }
 ],
 "metadata": {
  "kernelspec": {
   "display_name": "venv",
   "language": "python",
   "name": "python3"
  },
  "language_info": {
   "codemirror_mode": {
    "name": "ipython",
    "version": 3
   },
   "file_extension": ".py",
   "mimetype": "text/x-python",
   "name": "python",
   "nbconvert_exporter": "python",
   "pygments_lexer": "ipython3",
   "version": "3.11.9"
  }
 },
 "nbformat": 4,
 "nbformat_minor": 2
}
