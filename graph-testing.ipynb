{
 "cells": [
  {
   "cell_type": "code",
   "execution_count": null,
   "metadata": {},
   "outputs": [],
   "source": [
    "import torch\n",
    "import faiss \n",
    "import numpy as np\n",
    "from sklearn.metrics.pairwise import euclidean_distances\n",
    "from torch_geometric.data import Data"
   ]
  },
  {
   "cell_type": "code",
   "execution_count": null,
   "metadata": {},
   "outputs": [],
   "source": [
    "#check cuda \n",
    "print(torch.cuda.is_available()) \n",
    "print(torch.version.cuda) "
   ]
  },
  {
   "cell_type": "markdown",
   "metadata": {},
   "source": [
    "#### Fake Dataset Used For Testing And Evaluation Of Graph Construction"
   ]
  },
  {
   "cell_type": "code",
   "execution_count": null,
   "metadata": {},
   "outputs": [],
   "source": [
    "cells = np.array([\n",
    "    0, 1, 2, 3, 4, 5, 6, 7, 8, 9,\n",
    "    10, 11, 12, 13, 14, 15, 16, 17, 18, 19,\n",
    "    20, 21, 22, 23, 24, 25, 26, 27, 28, 29,\n",
    "    30, 31, 32, 33, 34, 35, 36, 37, 38, 39,\n",
    "    40, 41, 42, 43, 44, 45, 46, 47, 48, 49,\n",
    "    50, 51, 52, 53, 54, 55, 56, 57, 58, 59,\n",
    "    60, 61, 62, 63, 64, 65, 66, 67, 68, 69,\n",
    "    70, 71, 72, 73, 74, 75, 76, 77, 78, 79,\n",
    "    80, 81, 82, 83, 84, 85, 86, 87, 88, 89,\n",
    "    90, 91, 92, 93, 94, 95, 96, 97, 98, 99\n",
    "])\n",
    "\n",
    "gene_expression = [\n",
    "    100, 110, 120, 10000,  # Cells 0-3\n",
    "    100, 110, 120, 10000,  # Cells 4-7\n",
    "    100, 110, 120, 10000,  # Cells 8-11\n",
    "    100, 110, 120, 10000,  # Cells 12-15\n",
    "    100, 110, 120, 10000,  # Cells 16-19\n",
    "    100, 110, 120, 10000,  # Cells 20-23\n",
    "    100, 110, 120, 60000,  # Cells 24-27\n",
    "    100, 110, 120, 10000,  # Cells 28-31\n",
    "    100, 110, 120, 10000,  # Cells 32-35\n",
    "    100, 110, 120, 10000,  # Cells 36-39\n",
    "    100, 110, 120, 10000,  # Cells 40-43\n",
    "    100, 110, 120, 10000,  # Cells 44-47\n",
    "    100, 110, 120, 40000,  # Cells 48-51\n",
    "    100, 110, 120, 10000,  # Cells 52-55\n",
    "    100, 110, 120, 10000,  # Cells 56-59\n",
    "    100, 110, 120, 10000,  # Cells 60-63\n",
    "    100, 110, 120, 10000,  # Cells 64-67\n",
    "    100, 110, 120, 10000,  # Cells 68-71\n",
    "    100, 110, 120, 10000,  # Cells 72-75\n",
    "    100, 110, 120, 70000,  # Cells 76-79\n",
    "    100, 110, 120, 10000,  # Cells 80-83\n",
    "    100, 110, 120, 10000,  # Cells 84-87\n",
    "    100, 110, 120, 10000,  # Cells 88-91\n",
    "    100, 110, 120, 10000,  # Cells 92-95\n",
    "    100, 110, 120, 10000   # Cells 96-99\n",
    "]"
   ]
  },
  {
   "cell_type": "markdown",
   "metadata": {},
   "source": [
    "#### Test similarity metric(Eludian Distance)without FAISS and moving to process load to GPU"
   ]
  },
  {
   "cell_type": "code",
   "execution_count": null,
   "metadata": {},
   "outputs": [],
   "source": [
    "\n",
    "def build_cell_to_cell_graph_normal():   \n",
    "    outliers = []\n",
    "    x = torch.tensor(gene_expression, dtype=torch.float32).unsqueeze(1)\n",
    "\n",
    "    k = 2  \n",
    "    distance_threshold = 500 \n",
    "    distances = euclidean_distances(x, x)\n",
    "\n",
    "    edge_index_list = []\n",
    "\n",
    "    for i in range(len(cells)):\n",
    "        nearest_neighbors = np.argsort(distances[i])[1:k+1]  \n",
    "        for j in nearest_neighbors:\n",
    "            if distances[i, j] <= distance_threshold:\n",
    "                edge_index_list.append((i, j))\n",
    "            else:\n",
    "                outliers.append(int(j))\n",
    "\n",
    "    edge_index_np = np.array(edge_index_list).T\n",
    "    edge_index = torch.tensor(edge_index_np, dtype=torch.long) if edge_index_np.size > 0 else torch.empty((2, 0), dtype=torch.long)\n",
    "\n",
    "    source_cells = cells[edge_index_np[0]]\n",
    "    target_cells = cells[edge_index_np[1]]\n",
    "\n",
    "    for src, tgt in zip(source_cells, target_cells):\n",
    "        print(f\"Cell {src} is connected to Cell {tgt}\")\n",
    "\n",
    "    #cleaned outliers\n",
    "    cleaned_outliers = list(set(outliers))\n",
    "    print(cleaned_outliers)\n",
    "    \n",
    "    #pyG data object\n",
    "    data = Data(edge_index=edge_index, x=x)\n",
    "    return data\n",
    "\n",
    "data = build_cell_to_cell_graph_normal()"
   ]
  },
  {
   "cell_type": "markdown",
   "metadata": {},
   "source": [
    "#### Testing similarity metric(Eludian Distance) using FAISS and moving process load to GPU"
   ]
  },
  {
   "cell_type": "code",
   "execution_count": null,
   "metadata": {},
   "outputs": [],
   "source": [
    "def build_cell_to_cell_graph_faiss():\n",
    "\n",
    "    x = np.asarray(gene_expression, dtype=np.float32)\n",
    "    x = x.reshape(-1, 1) #reshape to 1D array\n",
    "\n",
    "    gpu_resource_manager = faiss.StandardGpuResources() #this manages GPU resources\n",
    "    similarity_object = faiss.IndexFlatL2(1) #object for fast smilarity search (1) set to one because of dimensions\n",
    "    similarity_object_in_gpu = faiss.index_cpu_to_gpu(gpu_resource_manager, 0,similarity_object)\n",
    "\n",
    "    similarity_object_in_gpu.add(x)\n",
    "    k=2\n",
    "    distances, indices = similarity_object_in_gpu.search(x, k + 1)\n",
    "    \n",
    "    # Process results\n",
    "    edge_index_list = []\n",
    "    outliers = []\n",
    "    \n",
    "    for i in range(len(cells)):\n",
    "        # Skip the first neighbor (self)\n",
    "        nearest_neighbors = indices[i, 1:k+1]  # Get k nearest excluding self\n",
    "        neighbor_distances = distances[i, 1:k+1]\n",
    "        \n",
    "        for j, dist in zip(nearest_neighbors, neighbor_distances):\n",
    "            if dist <= 500 ** 2:\n",
    "                edge_index_list.append((i, j))\n",
    "            else:\n",
    "                outliers.append(int(j))\n",
    "    \n",
    "    # Convert edges to torch tensor\n",
    "    edge_index_np = np.array(edge_index_list).T\n",
    "    edge_index = torch.tensor(edge_index_np, dtype=torch.long) if edge_index_np.size > 0 else torch.empty((2, 0), dtype=torch.long)\n",
    "    \n",
    "    # Print connections\n",
    "    source_cells = cells[edge_index_np[0]]\n",
    "    target_cells = cells[edge_index_np[1]]\n",
    "    for src, tgt in zip(source_cells, target_cells):\n",
    "        print(f\"Cell {src} is connected to Cell {tgt}\")\n",
    "    \n",
    "\n",
    "    cleaned_outliers = list(set(outliers))\n",
    "    print(cleaned_outliers)\n",
    "\n",
    "    x_tensor = torch.tensor(x, dtype=torch.float32)\n",
    "    pyg_data = Data(edge_index=edge_index, x=x_tensor)\n",
    "    \n",
    "    return pyg_data\n",
    "\n",
    "build_cell_to_cell_graph_faiss()"
   ]
  }
 ],
 "metadata": {
  "kernelspec": {
   "display_name": "scRareCellDetect",
   "language": "python",
   "name": "python3"
  },
  "language_info": {
   "name": "python",
   "version": "3.12.9"
  }
 },
 "nbformat": 4,
 "nbformat_minor": 2
}
